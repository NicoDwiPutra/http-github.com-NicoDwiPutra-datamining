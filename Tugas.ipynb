{
 "cells": [
  {
   "cell_type": "markdown",
   "metadata": {
    "cell_id": "97d405674d1c43978fc2bddc55f1c1ed",
    "deepnote_app_block_visible": false,
    "deepnote_cell_type": "text-cell-h1",
    "formattedRanges": [
     {
      "fromCodePoint": 0,
      "marks": {
       "bold": true
      },
      "toCodePoint": 14,
      "type": "marks"
     }
    ],
    "is_collapsed": false
   },
   "source": [
    "# Memahami Data:"
   ]
  },
  {
   "cell_type": "markdown",
   "metadata": {
    "cell_id": "876968029cd54ea684eaf78ddc4846b2",
    "deepnote_app_block_visible": false,
    "deepnote_cell_type": "text-cell-h2",
    "formattedRanges": [],
    "is_collapsed": false
   },
   "source": [
    "## Deskripsi data  "
   ]
  },
  {
   "cell_type": "markdown",
   "metadata": {
    "cell_id": "7f3c651f6a4d4e87b42644bd875cc794",
    "deepnote_app_block_visible": false,
    "deepnote_cell_type": "text-cell-p",
    "formattedRanges": [],
    "is_collapsed": false
   },
   "source": [
    "Data merupakan bahan mentah yang dianalisis untuk menemukan pola, hubungan, atau wawasan yang berguna dan bermanfaat"
   ]
  },
  {
   "cell_type": "markdown",
   "metadata": {
    "cell_id": "570597f1b9a545b885c12c28a860b027",
    "deepnote_app_block_visible": false,
    "deepnote_cell_type": "text-cell-p",
    "formattedRanges": [],
    "is_collapsed": false
   },
   "source": [
    "\r",
    "Dataset Iris adalah salah satu dataset yang paling terkenal dalam bidang ilmu data dan pembelajaran mesin. Dataset Iris terdiri dari 150 sampel dari tiga spesies Iris (Iris setosa, Iris virginica, dan Iris versicolor), masing-masing dengan empat fitur (panjang dan lebar kelopak dan mahkota) dalam sentimeter."
   ]
  },
  {
   "cell_type": "markdown",
   "metadata": {
    "cell_id": "2eadcce135e649e3b424a8b2cb4775c4",
    "deepnote_app_block_visible": false,
    "deepnote_cell_type": "text-cell-p",
    "formattedRanges": [],
    "is_collapsed": false
   },
   "source": [
    "Karena ukurannya yang kecil dan fiturnya yang jelas, dataset Iris sering digunakan sebagai contoh awal dalam mempelajari berbagai teknik analisis data dan pembelajaran mesin."
   ]
  },
  {
   "cell_type": "markdown",
   "metadata": {},
   "source": [
    "## Struktur "
   ]
  },
  {
   "cell_type": "code",
   "execution_count": 9,
   "metadata": {},
   "outputs": [],
   "source": [
    "#!pip install mysql-connector-python\n",
    "from sqlalchemy import create_engine\n",
    "import pandas as pd\n",
    "\n",
    "# Informasi koneksi ke database MySQL di cloud Aiven\n",
    "hostname = 'mysql-b8e8705-nico22101.a.aivencloud.com'\n",
    "port = 15404\n",
    "username = 'avnadmin'\n",
    "password = 'AVNS_1WxvRGymUGjuW0Z29gd'\n",
    "database = 'defaultdb'\n",
    "\n",
    "# Membuat string koneksi SQLAlchemy\n",
    "connection_string = f'mysql+mysqlconnector://{username}:{password}@{hostname}:{port}/{database}'\n",
    "\n",
    "# Membuat engine SQLAlchemy\n",
    "engine = create_engine(connection_string)\n",
    "\n",
    "# Membaca data dari database menggunakan Pandas\n",
    "query = \"SELECT * FROM `iriscopy`\"  \n",
    "dataset = pd.read_sql(query, engine)\n",
    "\n",
    "# Menutup koneksi ke database\n",
    "engine.dispose()\n"
   ]
  },
  {
   "cell_type": "code",
   "execution_count": 13,
   "metadata": {},
   "outputs": [
    {
     "data": {
      "text/plain": [
       "Index(['id', 'sepal_length', 'sepal_width', 'petal_length', 'petal_width',\n",
       "       'class'],\n",
       "      dtype='object')"
      ]
     },
     "execution_count": 13,
     "metadata": {},
     "output_type": "execute_result"
    }
   ],
   "source": [
    "dataset.columns "
   ]
  },
  {
   "cell_type": "code",
   "execution_count": 16,
   "metadata": {},
   "outputs": [
    {
     "data": {
      "text/plain": [
       "id                int64\n",
       "sepal_length    float64\n",
       "sepal_width     float64\n",
       "petal_length    float64\n",
       "petal_width     float64\n",
       "class            object\n",
       "dtype: object"
      ]
     },
     "execution_count": 16,
     "metadata": {},
     "output_type": "execute_result"
    }
   ],
   "source": [
    "dataset.dtypes #untuk mengetahui tipe data tiap kolom"
   ]
  },
  {
   "cell_type": "code",
   "execution_count": 15,
   "metadata": {},
   "outputs": [
    {
     "data": {
      "text/plain": [
       "(150, 6)"
      ]
     },
     "execution_count": 15,
     "metadata": {},
     "output_type": "execute_result"
    }
   ],
   "source": [
    "dataset.shape #untuk mengetahui jumlah baris dan kolom"
   ]
  },
  {
   "cell_type": "markdown",
   "metadata": {
    "cell_id": "a20f5d002e3a47bb97187c5cd78592a6",
    "deepnote_app_block_visible": false,
    "deepnote_cell_type": "text-cell-h2",
    "formattedRanges": [],
    "is_collapsed": false
   },
   "source": [
    "## Fitur"
   ]
  },
  {
   "cell_type": "markdown",
   "metadata": {
    "cell_id": "cac72b3e45c449c884f7dc7981a44382",
    "deepnote_cell_type": "text-cell-p",
    "formattedRanges": []
   },
   "source": [
    "Fitur seperti sepal_length, sepal_width, petal_length, dan petal_width dalam dataset Iris digunakan untuk menggambarkan karakteristik dari bunga iris"
   ]
  },
  {
   "cell_type": "markdown",
   "metadata": {
    "cell_id": "622d9e46c78a482f80ea4c2d49e7df3f",
    "deepnote_cell_type": "text-cell-p",
    "formattedRanges": [
     {
      "fromCodePoint": 0,
      "marks": {
       "bold": true
      },
      "toCodePoint": 12,
      "type": "marks"
     },
     {
      "fromCodePoint": 97,
      "marks": {
       "bold": true
      },
      "toCodePoint": 109,
      "type": "marks"
     },
     {
      "fromCodePoint": 137,
      "marks": {
       "bold": true
      },
      "toCodePoint": 149,
      "type": "marks"
     },
     {
      "fromCodePoint": 189,
      "marks": {
       "bold": true
      },
      "toCodePoint": 200,
      "type": "marks"
     }
    ]
   },
   "source": [
    "sepal_length adalah panjang dari kelopak bunga iris dalam satuan yang sama (biasanya sentimeter), sepal_width adalah lebar dari kelopak, petal_length adalah panjang dari mahkota bunga, dan petal_width adalah lebar dari mahkota."
   ]
  },
  {
   "cell_type": "markdown",
   "metadata": {
    "cell_id": "ca3def1241a14e7ba498c35848dfd479",
    "deepnote_app_block_visible": false,
    "deepnote_cell_type": "text-cell-p",
    "formattedRanges": [],
    "is_collapsed": false
   },
   "source": [
    "## Tampilan"
   ]
  },
  {
   "cell_type": "code",
   "execution_count": 2,
   "metadata": {
    "cell_id": "f73d73669d3b4ba08020e8789e6d2113",
    "deepnote_cell_type": "sql",
    "deepnote_sql_source": "SELECT * FROM `defaultdb`.`iriscopy` LIMIT 1000",
    "deepnote_table_loading": false,
    "deepnote_table_state": {
     "filters": [],
     "pageIndex": 0,
     "pageSize": 100,
     "sortBy": []
    },
    "deepnote_to_be_reexecuted": false,
    "deepnote_variable_name": "df_1",
    "execution_millis": 3471,
    "execution_start": 1710967403626,
    "source_hash": "f781cabd",
    "sql_integration_id": "e260cbeb-4e67-484d-8d5f-fdcc9dec71a5"
   },
   "outputs": [
    {
     "data": {
      "application/vnd.deepnote.sql-output-metadata+json": {
       "size_in_bytes": 16678,
       "status": "success_no_cache"
      }
     },
     "metadata": {},
     "output_type": "display_data"
    },
    {
     "data": {
      "application/vnd.deepnote.dataframe.v3+json": {
       "column_count": 6,
       "columns": [
        {
         "dtype": "int64",
         "name": "id",
         "stats": {
          "histogram": [
           {
            "bin_end": 15.9,
            "bin_start": 1,
            "count": 15
           },
           {
            "bin_end": 30.8,
            "bin_start": 15.9,
            "count": 15
           },
           {
            "bin_end": 45.7,
            "bin_start": 30.8,
            "count": 15
           },
           {
            "bin_end": 60.6,
            "bin_start": 45.7,
            "count": 15
           },
           {
            "bin_end": 75.5,
            "bin_start": 60.6,
            "count": 15
           },
           {
            "bin_end": 90.4,
            "bin_start": 75.5,
            "count": 15
           },
           {
            "bin_end": 105.3,
            "bin_start": 90.4,
            "count": 15
           },
           {
            "bin_end": 120.2,
            "bin_start": 105.3,
            "count": 15
           },
           {
            "bin_end": 135.1,
            "bin_start": 120.2,
            "count": 15
           },
           {
            "bin_end": 150,
            "bin_start": 135.1,
            "count": 15
           }
          ],
          "max": "150",
          "min": "1",
          "nan_count": 0,
          "unique_count": 150
         }
        },
        {
         "dtype": "float64",
         "name": "sepal_length",
         "stats": {
          "histogram": [
           {
            "bin_end": 4.66,
            "bin_start": 4.3,
            "count": 9
           },
           {
            "bin_end": 5.02,
            "bin_start": 4.66,
            "count": 23
           },
           {
            "bin_end": 5.38,
            "bin_start": 5.02,
            "count": 14
           },
           {
            "bin_end": 5.74,
            "bin_start": 5.38,
            "count": 27
           },
           {
            "bin_end": 6.1,
            "bin_start": 5.74,
            "count": 16
           },
           {
            "bin_end": 6.46,
            "bin_start": 6.1,
            "count": 26
           },
           {
            "bin_end": 6.82,
            "bin_start": 6.46,
            "count": 18
           },
           {
            "bin_end": 7.18,
            "bin_start": 6.82,
            "count": 6
           },
           {
            "bin_end": 7.54,
            "bin_start": 7.18,
            "count": 5
           },
           {
            "bin_end": 7.9,
            "bin_start": 7.54,
            "count": 6
           }
          ],
          "max": "7.9",
          "min": "4.3",
          "nan_count": 0,
          "unique_count": 35
         }
        },
        {
         "dtype": "float64",
         "name": "sepal_width",
         "stats": {
          "histogram": [
           {
            "bin_end": 2.24,
            "bin_start": 2,
            "count": 4
           },
           {
            "bin_end": 2.48,
            "bin_start": 2.24,
            "count": 7
           },
           {
            "bin_end": 2.72,
            "bin_start": 2.48,
            "count": 22
           },
           {
            "bin_end": 2.96,
            "bin_start": 2.72,
            "count": 24
           },
           {
            "bin_end": 3.2,
            "bin_start": 2.96,
            "count": 38
           },
           {
            "bin_end": 3.4400000000000004,
            "bin_start": 3.2,
            "count": 31
           },
           {
            "bin_end": 3.6800000000000006,
            "bin_start": 3.4400000000000004,
            "count": 9
           },
           {
            "bin_end": 3.9200000000000004,
            "bin_start": 3.6800000000000006,
            "count": 11
           },
           {
            "bin_end": 4.16,
            "bin_start": 3.9200000000000004,
            "count": 2
           },
           {
            "bin_end": 4.4,
            "bin_start": 4.16,
            "count": 2
           }
          ],
          "max": "4.4",
          "min": "2.0",
          "nan_count": 0,
          "unique_count": 23
         }
        },
        {
         "dtype": "float64",
         "name": "petal_length",
         "stats": {
          "histogram": [
           {
            "bin_end": 1.59,
            "bin_start": 1,
            "count": 37
           },
           {
            "bin_end": 2.18,
            "bin_start": 1.59,
            "count": 13
           },
           {
            "bin_end": 2.7700000000000005,
            "bin_start": 2.18,
            "count": 0
           },
           {
            "bin_end": 3.3600000000000003,
            "bin_start": 2.7700000000000005,
            "count": 3
           },
           {
            "bin_end": 3.95,
            "bin_start": 3.3600000000000003,
            "count": 8
           },
           {
            "bin_end": 4.540000000000001,
            "bin_start": 3.95,
            "count": 26
           },
           {
            "bin_end": 5.130000000000001,
            "bin_start": 4.540000000000001,
            "count": 29
           },
           {
            "bin_end": 5.720000000000001,
            "bin_start": 5.130000000000001,
            "count": 18
           },
           {
            "bin_end": 6.3100000000000005,
            "bin_start": 5.720000000000001,
            "count": 11
           },
           {
            "bin_end": 6.9,
            "bin_start": 6.3100000000000005,
            "count": 5
           }
          ],
          "max": "6.9",
          "min": "1.0",
          "nan_count": 0,
          "unique_count": 43
         }
        },
        {
         "dtype": "float64",
         "name": "petal_width",
         "stats": {
          "histogram": [
           {
            "bin_end": 0.33999999999999997,
            "bin_start": 0.1,
            "count": 41
           },
           {
            "bin_end": 0.58,
            "bin_start": 0.33999999999999997,
            "count": 8
           },
           {
            "bin_end": 0.82,
            "bin_start": 0.58,
            "count": 1
           },
           {
            "bin_end": 1.06,
            "bin_start": 0.82,
            "count": 7
           },
           {
            "bin_end": 1.3,
            "bin_start": 1.06,
            "count": 8
           },
           {
            "bin_end": 1.54,
            "bin_start": 1.3,
            "count": 33
           },
           {
            "bin_end": 1.78,
            "bin_start": 1.54,
            "count": 6
           },
           {
            "bin_end": 2.02,
            "bin_start": 1.78,
            "count": 23
           },
           {
            "bin_end": 2.2600000000000002,
            "bin_start": 2.02,
            "count": 9
           },
           {
            "bin_end": 2.5,
            "bin_start": 2.2600000000000002,
            "count": 14
           }
          ],
          "max": "2.5",
          "min": "0.1",
          "nan_count": 0,
          "unique_count": 22
         }
        },
        {
         "dtype": "object",
         "name": "class",
         "stats": {
          "categories": [
           {
            "count": 50,
            "name": "Iris-setosa"
           },
           {
            "count": 50,
            "name": "Iris-versicolor"
           },
           {
            "count": 50,
            "name": "Iris-virginica"
           }
          ],
          "nan_count": 0,
          "unique_count": 3
         }
        },
        {
         "dtype": "int64",
         "name": "_deepnote_index_column"
        }
       ],
       "row_count": 150,
       "rows": [
        {
         "_deepnote_index_column": 0,
         "class": "Iris-setosa",
         "id": 1,
         "petal_length": 1.4,
         "petal_width": 0.2,
         "sepal_length": 5.1,
         "sepal_width": 3.5
        },
        {
         "_deepnote_index_column": 1,
         "class": "Iris-setosa",
         "id": 2,
         "petal_length": 1.4,
         "petal_width": 0.2,
         "sepal_length": 4.9,
         "sepal_width": 3
        },
        {
         "_deepnote_index_column": 2,
         "class": "Iris-setosa",
         "id": 3,
         "petal_length": 1.3,
         "petal_width": 0.2,
         "sepal_length": 4.7,
         "sepal_width": 3.2
        },
        {
         "_deepnote_index_column": 3,
         "class": "Iris-setosa",
         "id": 4,
         "petal_length": 1.5,
         "petal_width": 0.2,
         "sepal_length": 4.6,
         "sepal_width": 3.1
        },
        {
         "_deepnote_index_column": 4,
         "class": "Iris-setosa",
         "id": 5,
         "petal_length": 1.4,
         "petal_width": 0.2,
         "sepal_length": 5,
         "sepal_width": 3.6
        },
        {
         "_deepnote_index_column": 5,
         "class": "Iris-setosa",
         "id": 6,
         "petal_length": 1.7,
         "petal_width": 0.4,
         "sepal_length": 5.4,
         "sepal_width": 3.9
        },
        {
         "_deepnote_index_column": 6,
         "class": "Iris-setosa",
         "id": 7,
         "petal_length": 1.4,
         "petal_width": 0.3,
         "sepal_length": 4.6,
         "sepal_width": 3.4
        },
        {
         "_deepnote_index_column": 7,
         "class": "Iris-setosa",
         "id": 8,
         "petal_length": 1.5,
         "petal_width": 0.2,
         "sepal_length": 5,
         "sepal_width": 3.4
        },
        {
         "_deepnote_index_column": 8,
         "class": "Iris-setosa",
         "id": 9,
         "petal_length": 1.4,
         "petal_width": 0.2,
         "sepal_length": 4.4,
         "sepal_width": 2.9
        },
        {
         "_deepnote_index_column": 9,
         "class": "Iris-setosa",
         "id": 10,
         "petal_length": 1.5,
         "petal_width": 0.1,
         "sepal_length": 4.9,
         "sepal_width": 3.1
        },
        {
         "_deepnote_index_column": 10,
         "class": "Iris-setosa",
         "id": 11,
         "petal_length": 1.5,
         "petal_width": 0.2,
         "sepal_length": 5.4,
         "sepal_width": 3.7
        },
        {
         "_deepnote_index_column": 11,
         "class": "Iris-setosa",
         "id": 12,
         "petal_length": 1.6,
         "petal_width": 0.2,
         "sepal_length": 4.8,
         "sepal_width": 3.4
        },
        {
         "_deepnote_index_column": 12,
         "class": "Iris-setosa",
         "id": 13,
         "petal_length": 1.4,
         "petal_width": 0.1,
         "sepal_length": 4.8,
         "sepal_width": 3
        },
        {
         "_deepnote_index_column": 13,
         "class": "Iris-setosa",
         "id": 14,
         "petal_length": 1.1,
         "petal_width": 0.1,
         "sepal_length": 4.3,
         "sepal_width": 3
        },
        {
         "_deepnote_index_column": 14,
         "class": "Iris-setosa",
         "id": 15,
         "petal_length": 1.2,
         "petal_width": 0.2,
         "sepal_length": 5.8,
         "sepal_width": 4
        },
        {
         "_deepnote_index_column": 15,
         "class": "Iris-setosa",
         "id": 16,
         "petal_length": 1.5,
         "petal_width": 0.4,
         "sepal_length": 5.7,
         "sepal_width": 4.4
        },
        {
         "_deepnote_index_column": 16,
         "class": "Iris-setosa",
         "id": 17,
         "petal_length": 1.3,
         "petal_width": 0.4,
         "sepal_length": 5.4,
         "sepal_width": 3.9
        },
        {
         "_deepnote_index_column": 17,
         "class": "Iris-setosa",
         "id": 18,
         "petal_length": 1.4,
         "petal_width": 0.3,
         "sepal_length": 5.1,
         "sepal_width": 3.5
        },
        {
         "_deepnote_index_column": 18,
         "class": "Iris-setosa",
         "id": 19,
         "petal_length": 1.7,
         "petal_width": 0.3,
         "sepal_length": 5.7,
         "sepal_width": 3.8
        },
        {
         "_deepnote_index_column": 19,
         "class": "Iris-setosa",
         "id": 20,
         "petal_length": 1.5,
         "petal_width": 0.3,
         "sepal_length": 5.1,
         "sepal_width": 3.8
        },
        {
         "_deepnote_index_column": 20,
         "class": "Iris-setosa",
         "id": 21,
         "petal_length": 1.7,
         "petal_width": 0.2,
         "sepal_length": 5.4,
         "sepal_width": 3.4
        },
        {
         "_deepnote_index_column": 21,
         "class": "Iris-setosa",
         "id": 22,
         "petal_length": 1.5,
         "petal_width": 0.4,
         "sepal_length": 5.1,
         "sepal_width": 3.7
        },
        {
         "_deepnote_index_column": 22,
         "class": "Iris-setosa",
         "id": 23,
         "petal_length": 1,
         "petal_width": 0.2,
         "sepal_length": 4.6,
         "sepal_width": 3.6
        },
        {
         "_deepnote_index_column": 23,
         "class": "Iris-setosa",
         "id": 24,
         "petal_length": 1.7,
         "petal_width": 0.5,
         "sepal_length": 5.1,
         "sepal_width": 3.3
        },
        {
         "_deepnote_index_column": 24,
         "class": "Iris-setosa",
         "id": 25,
         "petal_length": 1.9,
         "petal_width": 0.2,
         "sepal_length": 4.8,
         "sepal_width": 3.4
        },
        {
         "_deepnote_index_column": 25,
         "class": "Iris-setosa",
         "id": 26,
         "petal_length": 1.6,
         "petal_width": 0.2,
         "sepal_length": 5,
         "sepal_width": 3
        },
        {
         "_deepnote_index_column": 26,
         "class": "Iris-setosa",
         "id": 27,
         "petal_length": 1.6,
         "petal_width": 0.4,
         "sepal_length": 5,
         "sepal_width": 3.4
        },
        {
         "_deepnote_index_column": 27,
         "class": "Iris-setosa",
         "id": 28,
         "petal_length": 1.5,
         "petal_width": 0.2,
         "sepal_length": 5.2,
         "sepal_width": 3.5
        },
        {
         "_deepnote_index_column": 28,
         "class": "Iris-setosa",
         "id": 29,
         "petal_length": 1.4,
         "petal_width": 0.2,
         "sepal_length": 5.2,
         "sepal_width": 3.4
        },
        {
         "_deepnote_index_column": 29,
         "class": "Iris-setosa",
         "id": 30,
         "petal_length": 1.6,
         "petal_width": 0.2,
         "sepal_length": 4.7,
         "sepal_width": 3.2
        },
        {
         "_deepnote_index_column": 30,
         "class": "Iris-setosa",
         "id": 31,
         "petal_length": 1.6,
         "petal_width": 0.2,
         "sepal_length": 4.8,
         "sepal_width": 3.1
        },
        {
         "_deepnote_index_column": 31,
         "class": "Iris-setosa",
         "id": 32,
         "petal_length": 1.5,
         "petal_width": 0.4,
         "sepal_length": 5.4,
         "sepal_width": 3.4
        },
        {
         "_deepnote_index_column": 32,
         "class": "Iris-setosa",
         "id": 33,
         "petal_length": 1.5,
         "petal_width": 0.1,
         "sepal_length": 5.2,
         "sepal_width": 4.1
        },
        {
         "_deepnote_index_column": 33,
         "class": "Iris-setosa",
         "id": 34,
         "petal_length": 1.4,
         "petal_width": 0.2,
         "sepal_length": 5.5,
         "sepal_width": 4.2
        },
        {
         "_deepnote_index_column": 34,
         "class": "Iris-setosa",
         "id": 35,
         "petal_length": 1.5,
         "petal_width": 0.1,
         "sepal_length": 4.9,
         "sepal_width": 3.1
        },
        {
         "_deepnote_index_column": 35,
         "class": "Iris-setosa",
         "id": 36,
         "petal_length": 1.2,
         "petal_width": 0.2,
         "sepal_length": 5,
         "sepal_width": 3.2
        },
        {
         "_deepnote_index_column": 36,
         "class": "Iris-setosa",
         "id": 37,
         "petal_length": 1.3,
         "petal_width": 0.2,
         "sepal_length": 5.5,
         "sepal_width": 3.5
        },
        {
         "_deepnote_index_column": 37,
         "class": "Iris-setosa",
         "id": 38,
         "petal_length": 1.5,
         "petal_width": 0.1,
         "sepal_length": 4.9,
         "sepal_width": 3.1
        },
        {
         "_deepnote_index_column": 38,
         "class": "Iris-setosa",
         "id": 39,
         "petal_length": 1.3,
         "petal_width": 0.2,
         "sepal_length": 4.4,
         "sepal_width": 3
        },
        {
         "_deepnote_index_column": 39,
         "class": "Iris-setosa",
         "id": 40,
         "petal_length": 1.5,
         "petal_width": 0.2,
         "sepal_length": 5.1,
         "sepal_width": 3.4
        },
        {
         "_deepnote_index_column": 40,
         "class": "Iris-setosa",
         "id": 41,
         "petal_length": 1.3,
         "petal_width": 0.3,
         "sepal_length": 5,
         "sepal_width": 3.5
        },
        {
         "_deepnote_index_column": 41,
         "class": "Iris-setosa",
         "id": 42,
         "petal_length": 1.3,
         "petal_width": 0.3,
         "sepal_length": 4.5,
         "sepal_width": 2.3
        },
        {
         "_deepnote_index_column": 42,
         "class": "Iris-setosa",
         "id": 43,
         "petal_length": 1.3,
         "petal_width": 0.2,
         "sepal_length": 4.4,
         "sepal_width": 3.2
        },
        {
         "_deepnote_index_column": 43,
         "class": "Iris-setosa",
         "id": 44,
         "petal_length": 1.6,
         "petal_width": 0.6,
         "sepal_length": 5,
         "sepal_width": 3.5
        },
        {
         "_deepnote_index_column": 44,
         "class": "Iris-setosa",
         "id": 45,
         "petal_length": 1.9,
         "petal_width": 0.4,
         "sepal_length": 5.1,
         "sepal_width": 3.8
        },
        {
         "_deepnote_index_column": 45,
         "class": "Iris-setosa",
         "id": 46,
         "petal_length": 1.4,
         "petal_width": 0.3,
         "sepal_length": 4.8,
         "sepal_width": 3
        },
        {
         "_deepnote_index_column": 46,
         "class": "Iris-setosa",
         "id": 47,
         "petal_length": 1.6,
         "petal_width": 0.2,
         "sepal_length": 5.1,
         "sepal_width": 3.8
        },
        {
         "_deepnote_index_column": 47,
         "class": "Iris-setosa",
         "id": 48,
         "petal_length": 1.4,
         "petal_width": 0.2,
         "sepal_length": 4.6,
         "sepal_width": 3.2
        },
        {
         "_deepnote_index_column": 48,
         "class": "Iris-setosa",
         "id": 49,
         "petal_length": 1.5,
         "petal_width": 0.2,
         "sepal_length": 5.3,
         "sepal_width": 3.7
        },
        {
         "_deepnote_index_column": 49,
         "class": "Iris-setosa",
         "id": 50,
         "petal_length": 1.4,
         "petal_width": 0.2,
         "sepal_length": 5,
         "sepal_width": 3.3
        },
        {
         "_deepnote_index_column": 50,
         "class": "Iris-versicolor",
         "id": 51,
         "petal_length": 4.7,
         "petal_width": 1.4,
         "sepal_length": 7,
         "sepal_width": 3.2
        },
        {
         "_deepnote_index_column": 51,
         "class": "Iris-versicolor",
         "id": 52,
         "petal_length": 4.5,
         "petal_width": 1.5,
         "sepal_length": 6.4,
         "sepal_width": 3.2
        },
        {
         "_deepnote_index_column": 52,
         "class": "Iris-versicolor",
         "id": 53,
         "petal_length": 4.9,
         "petal_width": 1.5,
         "sepal_length": 6.9,
         "sepal_width": 3.1
        },
        {
         "_deepnote_index_column": 53,
         "class": "Iris-versicolor",
         "id": 54,
         "petal_length": 4,
         "petal_width": 1.3,
         "sepal_length": 5.5,
         "sepal_width": 2.3
        },
        {
         "_deepnote_index_column": 54,
         "class": "Iris-versicolor",
         "id": 55,
         "petal_length": 4.6,
         "petal_width": 1.5,
         "sepal_length": 6.5,
         "sepal_width": 2.8
        },
        {
         "_deepnote_index_column": 55,
         "class": "Iris-versicolor",
         "id": 56,
         "petal_length": 4.5,
         "petal_width": 1.3,
         "sepal_length": 5.7,
         "sepal_width": 2.8
        },
        {
         "_deepnote_index_column": 56,
         "class": "Iris-versicolor",
         "id": 57,
         "petal_length": 4.7,
         "petal_width": 1.6,
         "sepal_length": 6.3,
         "sepal_width": 3.3
        },
        {
         "_deepnote_index_column": 57,
         "class": "Iris-versicolor",
         "id": 58,
         "petal_length": 3.3,
         "petal_width": 1,
         "sepal_length": 4.9,
         "sepal_width": 2.4
        },
        {
         "_deepnote_index_column": 58,
         "class": "Iris-versicolor",
         "id": 59,
         "petal_length": 4.6,
         "petal_width": 1.3,
         "sepal_length": 6.6,
         "sepal_width": 2.9
        },
        {
         "_deepnote_index_column": 59,
         "class": "Iris-versicolor",
         "id": 60,
         "petal_length": 3.9,
         "petal_width": 1.4,
         "sepal_length": 5.2,
         "sepal_width": 2.7
        },
        {
         "_deepnote_index_column": 60,
         "class": "Iris-versicolor",
         "id": 61,
         "petal_length": 3.5,
         "petal_width": 1,
         "sepal_length": 5,
         "sepal_width": 2
        },
        {
         "_deepnote_index_column": 61,
         "class": "Iris-versicolor",
         "id": 62,
         "petal_length": 4.2,
         "petal_width": 1.5,
         "sepal_length": 5.9,
         "sepal_width": 3
        },
        {
         "_deepnote_index_column": 62,
         "class": "Iris-versicolor",
         "id": 63,
         "petal_length": 4,
         "petal_width": 1,
         "sepal_length": 6,
         "sepal_width": 2.2
        },
        {
         "_deepnote_index_column": 63,
         "class": "Iris-versicolor",
         "id": 64,
         "petal_length": 4.7,
         "petal_width": 1.4,
         "sepal_length": 6.1,
         "sepal_width": 2.9
        },
        {
         "_deepnote_index_column": 64,
         "class": "Iris-versicolor",
         "id": 65,
         "petal_length": 3.6,
         "petal_width": 1.3,
         "sepal_length": 5.6,
         "sepal_width": 2.9
        },
        {
         "_deepnote_index_column": 65,
         "class": "Iris-versicolor",
         "id": 66,
         "petal_length": 4.4,
         "petal_width": 1.4,
         "sepal_length": 6.7,
         "sepal_width": 3.1
        },
        {
         "_deepnote_index_column": 66,
         "class": "Iris-versicolor",
         "id": 67,
         "petal_length": 4.5,
         "petal_width": 1.5,
         "sepal_length": 5.6,
         "sepal_width": 3
        },
        {
         "_deepnote_index_column": 67,
         "class": "Iris-versicolor",
         "id": 68,
         "petal_length": 4.1,
         "petal_width": 1,
         "sepal_length": 5.8,
         "sepal_width": 2.7
        },
        {
         "_deepnote_index_column": 68,
         "class": "Iris-versicolor",
         "id": 69,
         "petal_length": 4.5,
         "petal_width": 1.5,
         "sepal_length": 6.2,
         "sepal_width": 2.2
        },
        {
         "_deepnote_index_column": 69,
         "class": "Iris-versicolor",
         "id": 70,
         "petal_length": 3.9,
         "petal_width": 1.1,
         "sepal_length": 5.6,
         "sepal_width": 2.5
        },
        {
         "_deepnote_index_column": 70,
         "class": "Iris-versicolor",
         "id": 71,
         "petal_length": 4.8,
         "petal_width": 1.8,
         "sepal_length": 5.9,
         "sepal_width": 3.2
        },
        {
         "_deepnote_index_column": 71,
         "class": "Iris-versicolor",
         "id": 72,
         "petal_length": 4,
         "petal_width": 1.3,
         "sepal_length": 6.1,
         "sepal_width": 2.8
        },
        {
         "_deepnote_index_column": 72,
         "class": "Iris-versicolor",
         "id": 73,
         "petal_length": 4.9,
         "petal_width": 1.5,
         "sepal_length": 6.3,
         "sepal_width": 2.5
        },
        {
         "_deepnote_index_column": 73,
         "class": "Iris-versicolor",
         "id": 74,
         "petal_length": 4.7,
         "petal_width": 1.2,
         "sepal_length": 6.1,
         "sepal_width": 2.8
        },
        {
         "_deepnote_index_column": 74,
         "class": "Iris-versicolor",
         "id": 75,
         "petal_length": 4.3,
         "petal_width": 1.3,
         "sepal_length": 6.4,
         "sepal_width": 2.9
        },
        {
         "_deepnote_index_column": 75,
         "class": "Iris-versicolor",
         "id": 76,
         "petal_length": 4.4,
         "petal_width": 1.4,
         "sepal_length": 6.6,
         "sepal_width": 3
        },
        {
         "_deepnote_index_column": 76,
         "class": "Iris-versicolor",
         "id": 77,
         "petal_length": 4.8,
         "petal_width": 1.4,
         "sepal_length": 6.8,
         "sepal_width": 2.8
        },
        {
         "_deepnote_index_column": 77,
         "class": "Iris-versicolor",
         "id": 78,
         "petal_length": 5,
         "petal_width": 1.7,
         "sepal_length": 6.7,
         "sepal_width": 3
        },
        {
         "_deepnote_index_column": 78,
         "class": "Iris-versicolor",
         "id": 79,
         "petal_length": 4.5,
         "petal_width": 1.5,
         "sepal_length": 6,
         "sepal_width": 2.9
        },
        {
         "_deepnote_index_column": 79,
         "class": "Iris-versicolor",
         "id": 80,
         "petal_length": 3.5,
         "petal_width": 1,
         "sepal_length": 5.7,
         "sepal_width": 2.6
        },
        {
         "_deepnote_index_column": 80,
         "class": "Iris-versicolor",
         "id": 81,
         "petal_length": 3.8,
         "petal_width": 1.1,
         "sepal_length": 5.5,
         "sepal_width": 2.4
        },
        {
         "_deepnote_index_column": 81,
         "class": "Iris-versicolor",
         "id": 82,
         "petal_length": 3.7,
         "petal_width": 1,
         "sepal_length": 5.5,
         "sepal_width": 2.4
        },
        {
         "_deepnote_index_column": 82,
         "class": "Iris-versicolor",
         "id": 83,
         "petal_length": 3.9,
         "petal_width": 1.2,
         "sepal_length": 5.8,
         "sepal_width": 2.7
        },
        {
         "_deepnote_index_column": 83,
         "class": "Iris-versicolor",
         "id": 84,
         "petal_length": 5.1,
         "petal_width": 1.6,
         "sepal_length": 6,
         "sepal_width": 2.7
        },
        {
         "_deepnote_index_column": 84,
         "class": "Iris-versicolor",
         "id": 85,
         "petal_length": 4.5,
         "petal_width": 1.5,
         "sepal_length": 5.4,
         "sepal_width": 3
        },
        {
         "_deepnote_index_column": 85,
         "class": "Iris-versicolor",
         "id": 86,
         "petal_length": 4.5,
         "petal_width": 1.6,
         "sepal_length": 6,
         "sepal_width": 3.4
        },
        {
         "_deepnote_index_column": 86,
         "class": "Iris-versicolor",
         "id": 87,
         "petal_length": 4.7,
         "petal_width": 1.5,
         "sepal_length": 6.7,
         "sepal_width": 3.1
        },
        {
         "_deepnote_index_column": 87,
         "class": "Iris-versicolor",
         "id": 88,
         "petal_length": 4.4,
         "petal_width": 1.3,
         "sepal_length": 6.3,
         "sepal_width": 2.3
        },
        {
         "_deepnote_index_column": 88,
         "class": "Iris-versicolor",
         "id": 89,
         "petal_length": 4.1,
         "petal_width": 1.3,
         "sepal_length": 5.6,
         "sepal_width": 3
        },
        {
         "_deepnote_index_column": 89,
         "class": "Iris-versicolor",
         "id": 90,
         "petal_length": 4,
         "petal_width": 1.3,
         "sepal_length": 5.5,
         "sepal_width": 2.5
        },
        {
         "_deepnote_index_column": 90,
         "class": "Iris-versicolor",
         "id": 91,
         "petal_length": 4.4,
         "petal_width": 1.2,
         "sepal_length": 5.5,
         "sepal_width": 2.6
        },
        {
         "_deepnote_index_column": 91,
         "class": "Iris-versicolor",
         "id": 92,
         "petal_length": 4.6,
         "petal_width": 1.4,
         "sepal_length": 6.1,
         "sepal_width": 3
        },
        {
         "_deepnote_index_column": 92,
         "class": "Iris-versicolor",
         "id": 93,
         "petal_length": 4,
         "petal_width": 1.2,
         "sepal_length": 5.8,
         "sepal_width": 2.6
        },
        {
         "_deepnote_index_column": 93,
         "class": "Iris-versicolor",
         "id": 94,
         "petal_length": 3.3,
         "petal_width": 1,
         "sepal_length": 5,
         "sepal_width": 2.3
        },
        {
         "_deepnote_index_column": 94,
         "class": "Iris-versicolor",
         "id": 95,
         "petal_length": 4.2,
         "petal_width": 1.3,
         "sepal_length": 5.6,
         "sepal_width": 2.7
        },
        {
         "_deepnote_index_column": 95,
         "class": "Iris-versicolor",
         "id": 96,
         "petal_length": 4.2,
         "petal_width": 1.2,
         "sepal_length": 5.7,
         "sepal_width": 3
        },
        {
         "_deepnote_index_column": 96,
         "class": "Iris-versicolor",
         "id": 97,
         "petal_length": 4.2,
         "petal_width": 1.3,
         "sepal_length": 5.7,
         "sepal_width": 2.9
        },
        {
         "_deepnote_index_column": 97,
         "class": "Iris-versicolor",
         "id": 98,
         "petal_length": 4.3,
         "petal_width": 1.3,
         "sepal_length": 6.2,
         "sepal_width": 2.9
        },
        {
         "_deepnote_index_column": 98,
         "class": "Iris-versicolor",
         "id": 99,
         "petal_length": 3,
         "petal_width": 1.1,
         "sepal_length": 5.1,
         "sepal_width": 2.5
        },
        {
         "_deepnote_index_column": 99,
         "class": "Iris-versicolor",
         "id": 100,
         "petal_length": 4.1,
         "petal_width": 1.3,
         "sepal_length": 5.7,
         "sepal_width": 2.8
        }
       ]
      },
      "text/html": [
       "<div>\n",
       "<style scoped>\n",
       "    .dataframe tbody tr th:only-of-type {\n",
       "        vertical-align: middle;\n",
       "    }\n",
       "\n",
       "    .dataframe tbody tr th {\n",
       "        vertical-align: top;\n",
       "    }\n",
       "\n",
       "    .dataframe thead th {\n",
       "        text-align: right;\n",
       "    }\n",
       "</style>\n",
       "<table border=\"1\" class=\"dataframe\">\n",
       "  <thead>\n",
       "    <tr style=\"text-align: right;\">\n",
       "      <th></th>\n",
       "      <th>id</th>\n",
       "      <th>sepal_length</th>\n",
       "      <th>sepal_width</th>\n",
       "      <th>petal_length</th>\n",
       "      <th>petal_width</th>\n",
       "      <th>class</th>\n",
       "    </tr>\n",
       "  </thead>\n",
       "  <tbody>\n",
       "    <tr>\n",
       "      <th>0</th>\n",
       "      <td>1</td>\n",
       "      <td>5.1</td>\n",
       "      <td>3.5</td>\n",
       "      <td>1.4</td>\n",
       "      <td>0.2</td>\n",
       "      <td>Iris-setosa</td>\n",
       "    </tr>\n",
       "    <tr>\n",
       "      <th>1</th>\n",
       "      <td>2</td>\n",
       "      <td>4.9</td>\n",
       "      <td>3.0</td>\n",
       "      <td>1.4</td>\n",
       "      <td>0.2</td>\n",
       "      <td>Iris-setosa</td>\n",
       "    </tr>\n",
       "    <tr>\n",
       "      <th>2</th>\n",
       "      <td>3</td>\n",
       "      <td>4.7</td>\n",
       "      <td>3.2</td>\n",
       "      <td>1.3</td>\n",
       "      <td>0.2</td>\n",
       "      <td>Iris-setosa</td>\n",
       "    </tr>\n",
       "    <tr>\n",
       "      <th>3</th>\n",
       "      <td>4</td>\n",
       "      <td>4.6</td>\n",
       "      <td>3.1</td>\n",
       "      <td>1.5</td>\n",
       "      <td>0.2</td>\n",
       "      <td>Iris-setosa</td>\n",
       "    </tr>\n",
       "    <tr>\n",
       "      <th>4</th>\n",
       "      <td>5</td>\n",
       "      <td>5.0</td>\n",
       "      <td>3.6</td>\n",
       "      <td>1.4</td>\n",
       "      <td>0.2</td>\n",
       "      <td>Iris-setosa</td>\n",
       "    </tr>\n",
       "    <tr>\n",
       "      <th>...</th>\n",
       "      <td>...</td>\n",
       "      <td>...</td>\n",
       "      <td>...</td>\n",
       "      <td>...</td>\n",
       "      <td>...</td>\n",
       "      <td>...</td>\n",
       "    </tr>\n",
       "    <tr>\n",
       "      <th>145</th>\n",
       "      <td>146</td>\n",
       "      <td>6.7</td>\n",
       "      <td>3.0</td>\n",
       "      <td>5.2</td>\n",
       "      <td>2.3</td>\n",
       "      <td>Iris-virginica</td>\n",
       "    </tr>\n",
       "    <tr>\n",
       "      <th>146</th>\n",
       "      <td>147</td>\n",
       "      <td>6.3</td>\n",
       "      <td>2.5</td>\n",
       "      <td>5.0</td>\n",
       "      <td>1.9</td>\n",
       "      <td>Iris-virginica</td>\n",
       "    </tr>\n",
       "    <tr>\n",
       "      <th>147</th>\n",
       "      <td>148</td>\n",
       "      <td>6.5</td>\n",
       "      <td>3.0</td>\n",
       "      <td>5.2</td>\n",
       "      <td>2.0</td>\n",
       "      <td>Iris-virginica</td>\n",
       "    </tr>\n",
       "    <tr>\n",
       "      <th>148</th>\n",
       "      <td>149</td>\n",
       "      <td>6.2</td>\n",
       "      <td>3.4</td>\n",
       "      <td>5.4</td>\n",
       "      <td>2.3</td>\n",
       "      <td>Iris-virginica</td>\n",
       "    </tr>\n",
       "    <tr>\n",
       "      <th>149</th>\n",
       "      <td>150</td>\n",
       "      <td>5.9</td>\n",
       "      <td>3.0</td>\n",
       "      <td>5.1</td>\n",
       "      <td>1.8</td>\n",
       "      <td>Iris-virginica</td>\n",
       "    </tr>\n",
       "  </tbody>\n",
       "</table>\n",
       "<p>150 rows × 6 columns</p>\n",
       "</div>"
      ],
      "text/plain": [
       "      id  sepal_length  sepal_width  petal_length  petal_width           class\n",
       "0      1           5.1          3.5           1.4          0.2     Iris-setosa\n",
       "1      2           4.9          3.0           1.4          0.2     Iris-setosa\n",
       "2      3           4.7          3.2           1.3          0.2     Iris-setosa\n",
       "3      4           4.6          3.1           1.5          0.2     Iris-setosa\n",
       "4      5           5.0          3.6           1.4          0.2     Iris-setosa\n",
       "..   ...           ...          ...           ...          ...             ...\n",
       "145  146           6.7          3.0           5.2          2.3  Iris-virginica\n",
       "146  147           6.3          2.5           5.0          1.9  Iris-virginica\n",
       "147  148           6.5          3.0           5.2          2.0  Iris-virginica\n",
       "148  149           6.2          3.4           5.4          2.3  Iris-virginica\n",
       "149  150           5.9          3.0           5.1          1.8  Iris-virginica\n",
       "\n",
       "[150 rows x 6 columns]"
      ]
     },
     "execution_count": 3,
     "metadata": {},
     "output_type": "execute_result"
    }
   ],
   "source": [
    "df_1 = _deepnote_execute_sql('SELECT * FROM `defaultdb`.`iriscopy` LIMIT 1000', 'SQL_E260CBEB_4E67_484D_8D5F_FDCC9DEC71A5', audit_sql_comment='', sql_cache_mode='cache_disabled')\n",
    "df_1"
   ]
  },
  {
   "cell_type": "markdown",
   "metadata": {
    "created_in_deepnote_cell": true,
    "deepnote_cell_type": "markdown"
   },
   "source": [
    "<a style='text-decoration:none;line-height:16px;display:flex;color:#5B5B62;padding:10px;justify-content:end;' href='https://deepnote.com?utm_source=created-in-deepnote-cell&projectId=ce5bb5da-f005-4a0b-8114-37accbca2d46' target=\"_blank\">\n",
    "<img alt='Created in deepnote.com' style='display:inline;max-height:16px;margin:0px;margin-right:7.5px;' src='data:image/svg+xml;base64,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' > </img>\n",
    "Created in <span style='font-weight:600;margin-left:4px;'>Deepnote</span></a>"
   ]
  },
  {
   "cell_type": "markdown",
   "metadata": {},
   "source": [
    "## Deskripsi Statistik"
   ]
  },
  {
   "cell_type": "code",
   "execution_count": 17,
   "metadata": {},
   "outputs": [
    {
     "data": {
      "text/html": [
       "<div>\n",
       "<style scoped>\n",
       "    .dataframe tbody tr th:only-of-type {\n",
       "        vertical-align: middle;\n",
       "    }\n",
       "\n",
       "    .dataframe tbody tr th {\n",
       "        vertical-align: top;\n",
       "    }\n",
       "\n",
       "    .dataframe thead th {\n",
       "        text-align: right;\n",
       "    }\n",
       "</style>\n",
       "<table border=\"1\" class=\"dataframe\">\n",
       "  <thead>\n",
       "    <tr style=\"text-align: right;\">\n",
       "      <th></th>\n",
       "      <th>id</th>\n",
       "      <th>sepal_length</th>\n",
       "      <th>sepal_width</th>\n",
       "      <th>petal_length</th>\n",
       "      <th>petal_width</th>\n",
       "    </tr>\n",
       "  </thead>\n",
       "  <tbody>\n",
       "    <tr>\n",
       "      <th>count</th>\n",
       "      <td>150.000000</td>\n",
       "      <td>150.000000</td>\n",
       "      <td>150.000000</td>\n",
       "      <td>150.000000</td>\n",
       "      <td>150.000000</td>\n",
       "    </tr>\n",
       "    <tr>\n",
       "      <th>mean</th>\n",
       "      <td>75.500000</td>\n",
       "      <td>5.843333</td>\n",
       "      <td>3.054000</td>\n",
       "      <td>3.758667</td>\n",
       "      <td>1.198667</td>\n",
       "    </tr>\n",
       "    <tr>\n",
       "      <th>std</th>\n",
       "      <td>43.445368</td>\n",
       "      <td>0.828066</td>\n",
       "      <td>0.433594</td>\n",
       "      <td>1.764420</td>\n",
       "      <td>0.763161</td>\n",
       "    </tr>\n",
       "    <tr>\n",
       "      <th>min</th>\n",
       "      <td>1.000000</td>\n",
       "      <td>4.300000</td>\n",
       "      <td>2.000000</td>\n",
       "      <td>1.000000</td>\n",
       "      <td>0.100000</td>\n",
       "    </tr>\n",
       "    <tr>\n",
       "      <th>25%</th>\n",
       "      <td>38.250000</td>\n",
       "      <td>5.100000</td>\n",
       "      <td>2.800000</td>\n",
       "      <td>1.600000</td>\n",
       "      <td>0.300000</td>\n",
       "    </tr>\n",
       "    <tr>\n",
       "      <th>50%</th>\n",
       "      <td>75.500000</td>\n",
       "      <td>5.800000</td>\n",
       "      <td>3.000000</td>\n",
       "      <td>4.350000</td>\n",
       "      <td>1.300000</td>\n",
       "    </tr>\n",
       "    <tr>\n",
       "      <th>75%</th>\n",
       "      <td>112.750000</td>\n",
       "      <td>6.400000</td>\n",
       "      <td>3.300000</td>\n",
       "      <td>5.100000</td>\n",
       "      <td>1.800000</td>\n",
       "    </tr>\n",
       "    <tr>\n",
       "      <th>max</th>\n",
       "      <td>150.000000</td>\n",
       "      <td>7.900000</td>\n",
       "      <td>4.400000</td>\n",
       "      <td>6.900000</td>\n",
       "      <td>2.500000</td>\n",
       "    </tr>\n",
       "  </tbody>\n",
       "</table>\n",
       "</div>"
      ],
      "text/plain": [
       "               id  sepal_length  sepal_width  petal_length  petal_width\n",
       "count  150.000000    150.000000   150.000000    150.000000   150.000000\n",
       "mean    75.500000      5.843333     3.054000      3.758667     1.198667\n",
       "std     43.445368      0.828066     0.433594      1.764420     0.763161\n",
       "min      1.000000      4.300000     2.000000      1.000000     0.100000\n",
       "25%     38.250000      5.100000     2.800000      1.600000     0.300000\n",
       "50%     75.500000      5.800000     3.000000      4.350000     1.300000\n",
       "75%    112.750000      6.400000     3.300000      5.100000     1.800000\n",
       "max    150.000000      7.900000     4.400000      6.900000     2.500000"
      ]
     },
     "execution_count": 17,
     "metadata": {},
     "output_type": "execute_result"
    }
   ],
   "source": [
    "dataset.describe()"
   ]
  },
  {
   "cell_type": "raw",
   "metadata": {},
   "source": [
    "Keterangan :"
   ]
  },
  {
   "cell_type": "markdown",
   "metadata": {},
   "source": [
    "- Count adalah jumlah data yang ada dalam setiap kolom.\n",
    "- Mean adalah nilai rata-rata dari data dalam setiap kolom.\n",
    "- std (Standar deviasi) adalah ukuran seberapa jauh data tersebar dari rata-rata dalam setiap kolom.\n",
    "- min(minimum) adalah nilai terkecil dalam setiap kolom.\n",
    "- 25% (Kuartil pertama/Q1) adalah nilai yang membagi 25% data terendah dari data dalam setiap kolom.\n",
    "- 50% (Median atau kuartil kedua/Q2) adalah nilai yang membagi data menjadi dua bagian sama besar dalam setiap kolom.\n",
    "- 75% (Kuartil ketiga/Q3) adalah nilai yang membagi 75% data tertinggi dari data dalam setiap kolom.\n",
    "- Max (Nilai maksimum) adalah nilai terbesar dalam setiap kolom.\n"
   ]
  },
  {
   "cell_type": "markdown",
   "metadata": {
    "cell_id": "3cf101d03f474f71b5b70f8d9b81bd90",
    "deepnote_app_block_visible": false,
    "deepnote_cell_type": "text-cell-bullet",
    "formattedRanges": [],
    "is_collapsed": false
   },
   "source": [
    "## Jumlah data setiap class/species"
   ]
  },
  {
   "cell_type": "code",
   "execution_count": 20,
   "metadata": {},
   "outputs": [
    {
     "data": {
      "text/plain": [
       "class\n",
       "Iris-setosa        50\n",
       "Iris-versicolor    50\n",
       "Iris-virginica     50\n",
       "dtype: int64"
      ]
     },
     "execution_count": 20,
     "metadata": {},
     "output_type": "execute_result"
    }
   ],
   "source": [
    "dataset.groupby('class').size()  # mengetahui jumlah masing-masing class/species"
   ]
  },
  {
   "cell_type": "markdown",
   "metadata": {
    "cell_id": "3cf101d03f474f71b5b70f8d9b81bd90",
    "deepnote_app_block_visible": false,
    "deepnote_cell_type": "text-cell-bullet",
    "formattedRanges": [],
    "is_collapsed": false
   },
   "source": [
    "- Iris-setosa sebanyak 50\n",
    "\n",
    "- Iris-vesicolor sebanyak 50\n",
    "\n",
    "- Iris-virginica sebanyak 50"
   ]
  },
  {
   "cell_type": "markdown",
   "metadata": {},
   "source": [
    "## Pra-proses data"
   ]
  },
  {
   "cell_type": "markdown",
   "metadata": {},
   "source": [
    "### Dengan mean"
   ]
  },
  {
   "cell_type": "code",
   "execution_count": 2,
   "metadata": {
    "cell_id": "916ee77cf9c44c33987a5dad11982356",
    "deepnote_cell_type": "sql",
    "deepnote_sql_source": "SELECT * FROM `defaultdb`.`missingcopy` LIMIT 10",
    "deepnote_to_be_reexecuted": false,
    "deepnote_variable_name": "df_5",
    "execution_millis": 3606,
    "execution_start": 1710975984189,
    "source_hash": "22d49f21",
    "sql_integration_id": "e260cbeb-4e67-484d-8d5f-fdcc9dec71a5"
   },
   "outputs": [
    {
     "data": {
      "application/vnd.deepnote.sql-output-metadata+json": {
       "size_in_bytes": 1208,
       "status": "success_no_cache"
      }
     },
     "metadata": {},
     "output_type": "display_data"
    },
    {
     "data": {
      "application/vnd.deepnote.dataframe.v3+json": {
       "column_count": 6,
       "columns": [
        {
         "dtype": "int64",
         "name": "id",
         "stats": {
          "histogram": [
           {
            "bin_end": 1.9,
            "bin_start": 1,
            "count": 1
           },
           {
            "bin_end": 2.8,
            "bin_start": 1.9,
            "count": 1
           },
           {
            "bin_end": 3.7,
            "bin_start": 2.8,
            "count": 1
           },
           {
            "bin_end": 4.6,
            "bin_start": 3.7,
            "count": 1
           },
           {
            "bin_end": 5.5,
            "bin_start": 4.6,
            "count": 1
           },
           {
            "bin_end": 6.4,
            "bin_start": 5.5,
            "count": 1
           },
           {
            "bin_end": 7.3,
            "bin_start": 6.4,
            "count": 1
           },
           {
            "bin_end": 8.2,
            "bin_start": 7.3,
            "count": 1
           },
           {
            "bin_end": 9.1,
            "bin_start": 8.2,
            "count": 1
           },
           {
            "bin_end": 10,
            "bin_start": 9.1,
            "count": 1
           }
          ],
          "max": "10",
          "min": "1",
          "nan_count": 0,
          "unique_count": 10
         }
        },
        {
         "dtype": "float64",
         "name": "sepal_length",
         "stats": {
          "histogram": [
           {
            "bin_end": 4.6499999999999995,
            "bin_start": 4.6,
            "count": 1
           },
           {
            "bin_end": 4.699999999999999,
            "bin_start": 4.6499999999999995,
            "count": 0
           },
           {
            "bin_end": 4.75,
            "bin_start": 4.699999999999999,
            "count": 0
           },
           {
            "bin_end": 4.8,
            "bin_start": 4.75,
            "count": 0
           },
           {
            "bin_end": 4.85,
            "bin_start": 4.8,
            "count": 0
           },
           {
            "bin_end": 4.8999999999999995,
            "bin_start": 4.85,
            "count": 0
           },
           {
            "bin_end": 4.949999999999999,
            "bin_start": 4.8999999999999995,
            "count": 1
           },
           {
            "bin_end": 5,
            "bin_start": 4.949999999999999,
            "count": 0
           },
           {
            "bin_end": 5.05,
            "bin_start": 5,
            "count": 2
           },
           {
            "bin_end": 5.1,
            "bin_start": 5.05,
            "count": 1
           }
          ],
          "max": "5.1",
          "min": "4.6",
          "nan_count": 5,
          "unique_count": 4
         }
        },
        {
         "dtype": "float64",
         "name": "sepal_width",
         "stats": {
          "histogram": [
           {
            "bin_end": 3,
            "bin_start": 2.9,
            "count": 1
           },
           {
            "bin_end": 3.1,
            "bin_start": 3,
            "count": 1
           },
           {
            "bin_end": 3.2,
            "bin_start": 3.1,
            "count": 2
           },
           {
            "bin_end": 3.3,
            "bin_start": 3.2,
            "count": 1
           },
           {
            "bin_end": 3.4,
            "bin_start": 3.3,
            "count": 0
           },
           {
            "bin_end": 3.5,
            "bin_start": 3.4,
            "count": 2
           },
           {
            "bin_end": 3.6,
            "bin_start": 3.5,
            "count": 1
           },
           {
            "bin_end": 3.7,
            "bin_start": 3.6,
            "count": 1
           },
           {
            "bin_end": 3.8,
            "bin_start": 3.7,
            "count": 0
           },
           {
            "bin_end": 3.9,
            "bin_start": 3.8,
            "count": 1
           }
          ],
          "max": "3.9",
          "min": "2.9",
          "nan_count": 0,
          "unique_count": 8
         }
        },
        {
         "dtype": "float64",
         "name": "petal_length",
         "stats": {
          "histogram": [
           {
            "bin_end": 1.34,
            "bin_start": 1.3,
            "count": 1
           },
           {
            "bin_end": 1.3800000000000001,
            "bin_start": 1.34,
            "count": 0
           },
           {
            "bin_end": 1.42,
            "bin_start": 1.3800000000000001,
            "count": 5
           },
           {
            "bin_end": 1.46,
            "bin_start": 1.42,
            "count": 0
           },
           {
            "bin_end": 1.5,
            "bin_start": 1.46,
            "count": 0
           },
           {
            "bin_end": 1.54,
            "bin_start": 1.5,
            "count": 3
           },
           {
            "bin_end": 1.58,
            "bin_start": 1.54,
            "count": 0
           },
           {
            "bin_end": 1.62,
            "bin_start": 1.58,
            "count": 0
           },
           {
            "bin_end": 1.66,
            "bin_start": 1.62,
            "count": 0
           },
           {
            "bin_end": 1.7,
            "bin_start": 1.66,
            "count": 1
           }
          ],
          "max": "1.7",
          "min": "1.3",
          "nan_count": 0,
          "unique_count": 4
         }
        },
        {
         "dtype": "float64",
         "name": "petal_width",
         "stats": {
          "histogram": [
           {
            "bin_end": 0.13,
            "bin_start": 0.1,
            "count": 1
           },
           {
            "bin_end": 0.16000000000000003,
            "bin_start": 0.13,
            "count": 0
           },
           {
            "bin_end": 0.19000000000000003,
            "bin_start": 0.16000000000000003,
            "count": 0
           },
           {
            "bin_end": 0.22000000000000003,
            "bin_start": 0.19000000000000003,
            "count": 7
           },
           {
            "bin_end": 0.25,
            "bin_start": 0.22000000000000003,
            "count": 0
           },
           {
            "bin_end": 0.28,
            "bin_start": 0.25,
            "count": 0
           },
           {
            "bin_end": 0.31000000000000005,
            "bin_start": 0.28,
            "count": 1
           },
           {
            "bin_end": 0.3400000000000001,
            "bin_start": 0.31000000000000005,
            "count": 0
           },
           {
            "bin_end": 0.3700000000000001,
            "bin_start": 0.3400000000000001,
            "count": 0
           },
           {
            "bin_end": 0.4,
            "bin_start": 0.3700000000000001,
            "count": 1
           }
          ],
          "max": "0.4",
          "min": "0.1",
          "nan_count": 0,
          "unique_count": 4
         }
        },
        {
         "dtype": "object",
         "name": "class",
         "stats": {
          "categories": [
           {
            "count": 10,
            "name": "Iris-setosa"
           }
          ],
          "nan_count": 0,
          "unique_count": 1
         }
        },
        {
         "dtype": "int64",
         "name": "_deepnote_index_column"
        }
       ],
       "row_count": 10,
       "rows": [
        {
         "_deepnote_index_column": 0,
         "class": "Iris-setosa",
         "id": 1,
         "petal_length": 1.4,
         "petal_width": 0.2,
         "sepal_length": 5.1,
         "sepal_width": 3.5
        },
        {
         "_deepnote_index_column": 1,
         "class": "Iris-setosa",
         "id": 2,
         "petal_length": 1.4,
         "petal_width": 0.2,
         "sepal_length": "nan",
         "sepal_width": 3
        },
        {
         "_deepnote_index_column": 2,
         "class": "Iris-setosa",
         "id": 3,
         "petal_length": 1.3,
         "petal_width": 0.2,
         "sepal_length": "nan",
         "sepal_width": 3.2
        },
        {
         "_deepnote_index_column": 3,
         "class": "Iris-setosa",
         "id": 4,
         "petal_length": 1.5,
         "petal_width": 0.2,
         "sepal_length": "nan",
         "sepal_width": 3.1
        },
        {
         "_deepnote_index_column": 4,
         "class": "Iris-setosa",
         "id": 5,
         "petal_length": 1.4,
         "petal_width": 0.2,
         "sepal_length": 5,
         "sepal_width": 3.6
        },
        {
         "_deepnote_index_column": 5,
         "class": "Iris-setosa",
         "id": 6,
         "petal_length": 1.7,
         "petal_width": 0.4,
         "sepal_length": "nan",
         "sepal_width": 3.9
        },
        {
         "_deepnote_index_column": 6,
         "class": "Iris-setosa",
         "id": 7,
         "petal_length": 1.4,
         "petal_width": 0.3,
         "sepal_length": 4.6,
         "sepal_width": 3.4
        },
        {
         "_deepnote_index_column": 7,
         "class": "Iris-setosa",
         "id": 8,
         "petal_length": 1.5,
         "petal_width": 0.2,
         "sepal_length": 5,
         "sepal_width": 3.4
        },
        {
         "_deepnote_index_column": 8,
         "class": "Iris-setosa",
         "id": 9,
         "petal_length": 1.4,
         "petal_width": 0.2,
         "sepal_length": "nan",
         "sepal_width": 2.9
        },
        {
         "_deepnote_index_column": 9,
         "class": "Iris-setosa",
         "id": 10,
         "petal_length": 1.5,
         "petal_width": 0.1,
         "sepal_length": 4.9,
         "sepal_width": 3.1
        }
       ]
      },
      "text/html": [
       "<div>\n",
       "<style scoped>\n",
       "    .dataframe tbody tr th:only-of-type {\n",
       "        vertical-align: middle;\n",
       "    }\n",
       "\n",
       "    .dataframe tbody tr th {\n",
       "        vertical-align: top;\n",
       "    }\n",
       "\n",
       "    .dataframe thead th {\n",
       "        text-align: right;\n",
       "    }\n",
       "</style>\n",
       "<table border=\"1\" class=\"dataframe\">\n",
       "  <thead>\n",
       "    <tr style=\"text-align: right;\">\n",
       "      <th></th>\n",
       "      <th>id</th>\n",
       "      <th>sepal_length</th>\n",
       "      <th>sepal_width</th>\n",
       "      <th>petal_length</th>\n",
       "      <th>petal_width</th>\n",
       "      <th>class</th>\n",
       "    </tr>\n",
       "  </thead>\n",
       "  <tbody>\n",
       "    <tr>\n",
       "      <th>0</th>\n",
       "      <td>1</td>\n",
       "      <td>5.1</td>\n",
       "      <td>3.5</td>\n",
       "      <td>1.4</td>\n",
       "      <td>0.2</td>\n",
       "      <td>Iris-setosa</td>\n",
       "    </tr>\n",
       "    <tr>\n",
       "      <th>1</th>\n",
       "      <td>2</td>\n",
       "      <td>NaN</td>\n",
       "      <td>3.0</td>\n",
       "      <td>1.4</td>\n",
       "      <td>0.2</td>\n",
       "      <td>Iris-setosa</td>\n",
       "    </tr>\n",
       "    <tr>\n",
       "      <th>2</th>\n",
       "      <td>3</td>\n",
       "      <td>NaN</td>\n",
       "      <td>3.2</td>\n",
       "      <td>1.3</td>\n",
       "      <td>0.2</td>\n",
       "      <td>Iris-setosa</td>\n",
       "    </tr>\n",
       "    <tr>\n",
       "      <th>3</th>\n",
       "      <td>4</td>\n",
       "      <td>NaN</td>\n",
       "      <td>3.1</td>\n",
       "      <td>1.5</td>\n",
       "      <td>0.2</td>\n",
       "      <td>Iris-setosa</td>\n",
       "    </tr>\n",
       "    <tr>\n",
       "      <th>4</th>\n",
       "      <td>5</td>\n",
       "      <td>5.0</td>\n",
       "      <td>3.6</td>\n",
       "      <td>1.4</td>\n",
       "      <td>0.2</td>\n",
       "      <td>Iris-setosa</td>\n",
       "    </tr>\n",
       "    <tr>\n",
       "      <th>5</th>\n",
       "      <td>6</td>\n",
       "      <td>NaN</td>\n",
       "      <td>3.9</td>\n",
       "      <td>1.7</td>\n",
       "      <td>0.4</td>\n",
       "      <td>Iris-setosa</td>\n",
       "    </tr>\n",
       "    <tr>\n",
       "      <th>6</th>\n",
       "      <td>7</td>\n",
       "      <td>4.6</td>\n",
       "      <td>3.4</td>\n",
       "      <td>1.4</td>\n",
       "      <td>0.3</td>\n",
       "      <td>Iris-setosa</td>\n",
       "    </tr>\n",
       "    <tr>\n",
       "      <th>7</th>\n",
       "      <td>8</td>\n",
       "      <td>5.0</td>\n",
       "      <td>3.4</td>\n",
       "      <td>1.5</td>\n",
       "      <td>0.2</td>\n",
       "      <td>Iris-setosa</td>\n",
       "    </tr>\n",
       "    <tr>\n",
       "      <th>8</th>\n",
       "      <td>9</td>\n",
       "      <td>NaN</td>\n",
       "      <td>2.9</td>\n",
       "      <td>1.4</td>\n",
       "      <td>0.2</td>\n",
       "      <td>Iris-setosa</td>\n",
       "    </tr>\n",
       "    <tr>\n",
       "      <th>9</th>\n",
       "      <td>10</td>\n",
       "      <td>4.9</td>\n",
       "      <td>3.1</td>\n",
       "      <td>1.5</td>\n",
       "      <td>0.1</td>\n",
       "      <td>Iris-setosa</td>\n",
       "    </tr>\n",
       "  </tbody>\n",
       "</table>\n",
       "</div>"
      ],
      "text/plain": [
       "   id  sepal_length  sepal_width  petal_length  petal_width        class\n",
       "0   1           5.1          3.5           1.4          0.2  Iris-setosa\n",
       "1   2           NaN          3.0           1.4          0.2  Iris-setosa\n",
       "2   3           NaN          3.2           1.3          0.2  Iris-setosa\n",
       "3   4           NaN          3.1           1.5          0.2  Iris-setosa\n",
       "4   5           5.0          3.6           1.4          0.2  Iris-setosa\n",
       "5   6           NaN          3.9           1.7          0.4  Iris-setosa\n",
       "6   7           4.6          3.4           1.4          0.3  Iris-setosa\n",
       "7   8           5.0          3.4           1.5          0.2  Iris-setosa\n",
       "8   9           NaN          2.9           1.4          0.2  Iris-setosa\n",
       "9  10           4.9          3.1           1.5          0.1  Iris-setosa"
      ]
     },
     "execution_count": 2,
     "metadata": {},
     "output_type": "execute_result"
    }
   ],
   "source": [
    "df_5 = _deepnote_execute_sql('SELECT * FROM `defaultdb`.`missingcopy` LIMIT 10', 'SQL_E260CBEB_4E67_484D_8D5F_FDCC9DEC71A5', audit_sql_comment='', sql_cache_mode='cache_disabled')\n",
    "df_5"
   ]
  },
  {
   "cell_type": "raw",
   "metadata": {},
   "source": [
    "-- Menghitung rata-rata sepal_length\n",
    "SET @avg_sepal_length := (SELECT AVG(sepal_length) FROM defaultdb.iris WHERE sepal_length IS NOT NULL);\n",
    "\n",
    "-- Mengupdate nilai yang hilang pada kolom sepal_length dengan rata-rata\n",
    "UPDATE defaultdb.iris\n",
    "SET sepal_length = IF(sepal_length IS NULL, @avg_sepal_length, sepal_length);\n"
   ]
  },
  {
   "cell_type": "raw",
   "metadata": {},
   "source": [
    "mencari mean dengan query dan update dengan query"
   ]
  },
  {
   "cell_type": "code",
   "execution_count": 3,
   "metadata": {
    "cell_id": "28e458d4b390494aa89465e2d72ebf44",
    "deepnote_cell_type": "sql",
    "deepnote_sql_source": "SELECT * FROM `defaultdb`.`iris` LIMIT 10",
    "deepnote_table_loading": false,
    "deepnote_table_state": {
     "filters": [],
     "pageIndex": 0,
     "pageSize": 10,
     "sortBy": []
    },
    "deepnote_to_be_reexecuted": false,
    "deepnote_variable_name": "df_2",
    "execution_millis": 3510,
    "execution_start": 1710975987811,
    "source_hash": "82c24157",
    "sql_integration_id": "e260cbeb-4e67-484d-8d5f-fdcc9dec71a5"
   },
   "outputs": [
    {
     "data": {
      "application/vnd.deepnote.sql-output-metadata+json": {
       "size_in_bytes": 1208,
       "status": "success_no_cache"
      }
     },
     "metadata": {},
     "output_type": "display_data"
    },
    {
     "data": {
      "application/vnd.deepnote.dataframe.v3+json": {
       "column_count": 6,
       "columns": [
        {
         "dtype": "int64",
         "name": "id",
         "stats": {
          "histogram": [
           {
            "bin_end": 1.9,
            "bin_start": 1,
            "count": 1
           },
           {
            "bin_end": 2.8,
            "bin_start": 1.9,
            "count": 1
           },
           {
            "bin_end": 3.7,
            "bin_start": 2.8,
            "count": 1
           },
           {
            "bin_end": 4.6,
            "bin_start": 3.7,
            "count": 1
           },
           {
            "bin_end": 5.5,
            "bin_start": 4.6,
            "count": 1
           },
           {
            "bin_end": 6.4,
            "bin_start": 5.5,
            "count": 1
           },
           {
            "bin_end": 7.3,
            "bin_start": 6.4,
            "count": 1
           },
           {
            "bin_end": 8.2,
            "bin_start": 7.3,
            "count": 1
           },
           {
            "bin_end": 9.1,
            "bin_start": 8.2,
            "count": 1
           },
           {
            "bin_end": 10,
            "bin_start": 9.1,
            "count": 1
           }
          ],
          "max": "10",
          "min": "1",
          "nan_count": 0,
          "unique_count": 10
         }
        },
        {
         "dtype": "float64",
         "name": "sepal_length",
         "stats": {
          "histogram": [
           {
            "bin_end": 4.727931034482759,
            "bin_start": 4.6,
            "count": 1
           },
           {
            "bin_end": 4.855862068965517,
            "bin_start": 4.727931034482759,
            "count": 0
           },
           {
            "bin_end": 4.983793103448276,
            "bin_start": 4.855862068965517,
            "count": 1
           },
           {
            "bin_end": 5.111724137931035,
            "bin_start": 4.983793103448276,
            "count": 3
           },
           {
            "bin_end": 5.239655172413794,
            "bin_start": 5.111724137931035,
            "count": 0
           },
           {
            "bin_end": 5.3675862068965525,
            "bin_start": 5.239655172413794,
            "count": 0
           },
           {
            "bin_end": 5.495517241379312,
            "bin_start": 5.3675862068965525,
            "count": 0
           },
           {
            "bin_end": 5.623448275862071,
            "bin_start": 5.495517241379312,
            "count": 0
           },
           {
            "bin_end": 5.751379310344829,
            "bin_start": 5.623448275862071,
            "count": 0
           },
           {
            "bin_end": 5.879310344827588,
            "bin_start": 5.751379310344829,
            "count": 5
           }
          ],
          "max": "5.879310344827588",
          "min": "4.6",
          "nan_count": 0,
          "unique_count": 5
         }
        },
        {
         "dtype": "float64",
         "name": "sepal_width",
         "stats": {
          "histogram": [
           {
            "bin_end": 3,
            "bin_start": 2.9,
            "count": 1
           },
           {
            "bin_end": 3.1,
            "bin_start": 3,
            "count": 1
           },
           {
            "bin_end": 3.2,
            "bin_start": 3.1,
            "count": 2
           },
           {
            "bin_end": 3.3,
            "bin_start": 3.2,
            "count": 1
           },
           {
            "bin_end": 3.4,
            "bin_start": 3.3,
            "count": 0
           },
           {
            "bin_end": 3.5,
            "bin_start": 3.4,
            "count": 2
           },
           {
            "bin_end": 3.6,
            "bin_start": 3.5,
            "count": 1
           },
           {
            "bin_end": 3.7,
            "bin_start": 3.6,
            "count": 1
           },
           {
            "bin_end": 3.8,
            "bin_start": 3.7,
            "count": 0
           },
           {
            "bin_end": 3.9,
            "bin_start": 3.8,
            "count": 1
           }
          ],
          "max": "3.9",
          "min": "2.9",
          "nan_count": 0,
          "unique_count": 8
         }
        },
        {
         "dtype": "float64",
         "name": "petal_length",
         "stats": {
          "histogram": [
           {
            "bin_end": 1.34,
            "bin_start": 1.3,
            "count": 1
           },
           {
            "bin_end": 1.3800000000000001,
            "bin_start": 1.34,
            "count": 0
           },
           {
            "bin_end": 1.42,
            "bin_start": 1.3800000000000001,
            "count": 5
           },
           {
            "bin_end": 1.46,
            "bin_start": 1.42,
            "count": 0
           },
           {
            "bin_end": 1.5,
            "bin_start": 1.46,
            "count": 0
           },
           {
            "bin_end": 1.54,
            "bin_start": 1.5,
            "count": 3
           },
           {
            "bin_end": 1.58,
            "bin_start": 1.54,
            "count": 0
           },
           {
            "bin_end": 1.62,
            "bin_start": 1.58,
            "count": 0
           },
           {
            "bin_end": 1.66,
            "bin_start": 1.62,
            "count": 0
           },
           {
            "bin_end": 1.7,
            "bin_start": 1.66,
            "count": 1
           }
          ],
          "max": "1.7",
          "min": "1.3",
          "nan_count": 0,
          "unique_count": 4
         }
        },
        {
         "dtype": "float64",
         "name": "petal_width",
         "stats": {
          "histogram": [
           {
            "bin_end": 0.13,
            "bin_start": 0.1,
            "count": 1
           },
           {
            "bin_end": 0.16000000000000003,
            "bin_start": 0.13,
            "count": 0
           },
           {
            "bin_end": 0.19000000000000003,
            "bin_start": 0.16000000000000003,
            "count": 0
           },
           {
            "bin_end": 0.22000000000000003,
            "bin_start": 0.19000000000000003,
            "count": 7
           },
           {
            "bin_end": 0.25,
            "bin_start": 0.22000000000000003,
            "count": 0
           },
           {
            "bin_end": 0.28,
            "bin_start": 0.25,
            "count": 0
           },
           {
            "bin_end": 0.31000000000000005,
            "bin_start": 0.28,
            "count": 1
           },
           {
            "bin_end": 0.3400000000000001,
            "bin_start": 0.31000000000000005,
            "count": 0
           },
           {
            "bin_end": 0.3700000000000001,
            "bin_start": 0.3400000000000001,
            "count": 0
           },
           {
            "bin_end": 0.4,
            "bin_start": 0.3700000000000001,
            "count": 1
           }
          ],
          "max": "0.4",
          "min": "0.1",
          "nan_count": 0,
          "unique_count": 4
         }
        },
        {
         "dtype": "object",
         "name": "class",
         "stats": {
          "categories": [
           {
            "count": 10,
            "name": "Iris-setosa"
           }
          ],
          "nan_count": 0,
          "unique_count": 1
         }
        },
        {
         "dtype": "int64",
         "name": "_deepnote_index_column"
        }
       ],
       "row_count": 10,
       "rows": [
        {
         "_deepnote_index_column": 0,
         "class": "Iris-setosa",
         "id": 1,
         "petal_length": 1.4,
         "petal_width": 0.2,
         "sepal_length": 5.1,
         "sepal_width": 3.5
        },
        {
         "_deepnote_index_column": 1,
         "class": "Iris-setosa",
         "id": 2,
         "petal_length": 1.4,
         "petal_width": 0.2,
         "sepal_length": 5.879310344827588,
         "sepal_width": 3
        },
        {
         "_deepnote_index_column": 2,
         "class": "Iris-setosa",
         "id": 3,
         "petal_length": 1.3,
         "petal_width": 0.2,
         "sepal_length": 5.879310344827588,
         "sepal_width": 3.2
        },
        {
         "_deepnote_index_column": 3,
         "class": "Iris-setosa",
         "id": 4,
         "petal_length": 1.5,
         "petal_width": 0.2,
         "sepal_length": 5.879310344827588,
         "sepal_width": 3.1
        },
        {
         "_deepnote_index_column": 4,
         "class": "Iris-setosa",
         "id": 5,
         "petal_length": 1.4,
         "petal_width": 0.2,
         "sepal_length": 5,
         "sepal_width": 3.6
        },
        {
         "_deepnote_index_column": 5,
         "class": "Iris-setosa",
         "id": 6,
         "petal_length": 1.7,
         "petal_width": 0.4,
         "sepal_length": 5.879310344827588,
         "sepal_width": 3.9
        },
        {
         "_deepnote_index_column": 6,
         "class": "Iris-setosa",
         "id": 7,
         "petal_length": 1.4,
         "petal_width": 0.3,
         "sepal_length": 4.6,
         "sepal_width": 3.4
        },
        {
         "_deepnote_index_column": 7,
         "class": "Iris-setosa",
         "id": 8,
         "petal_length": 1.5,
         "petal_width": 0.2,
         "sepal_length": 5,
         "sepal_width": 3.4
        },
        {
         "_deepnote_index_column": 8,
         "class": "Iris-setosa",
         "id": 9,
         "petal_length": 1.4,
         "petal_width": 0.2,
         "sepal_length": 5.879310344827588,
         "sepal_width": 2.9
        },
        {
         "_deepnote_index_column": 9,
         "class": "Iris-setosa",
         "id": 10,
         "petal_length": 1.5,
         "petal_width": 0.1,
         "sepal_length": 4.9,
         "sepal_width": 3.1
        }
       ]
      },
      "text/html": [
       "<div>\n",
       "<style scoped>\n",
       "    .dataframe tbody tr th:only-of-type {\n",
       "        vertical-align: middle;\n",
       "    }\n",
       "\n",
       "    .dataframe tbody tr th {\n",
       "        vertical-align: top;\n",
       "    }\n",
       "\n",
       "    .dataframe thead th {\n",
       "        text-align: right;\n",
       "    }\n",
       "</style>\n",
       "<table border=\"1\" class=\"dataframe\">\n",
       "  <thead>\n",
       "    <tr style=\"text-align: right;\">\n",
       "      <th></th>\n",
       "      <th>id</th>\n",
       "      <th>sepal_length</th>\n",
       "      <th>sepal_width</th>\n",
       "      <th>petal_length</th>\n",
       "      <th>petal_width</th>\n",
       "      <th>class</th>\n",
       "    </tr>\n",
       "  </thead>\n",
       "  <tbody>\n",
       "    <tr>\n",
       "      <th>0</th>\n",
       "      <td>1</td>\n",
       "      <td>5.10000</td>\n",
       "      <td>3.5</td>\n",
       "      <td>1.4</td>\n",
       "      <td>0.2</td>\n",
       "      <td>Iris-setosa</td>\n",
       "    </tr>\n",
       "    <tr>\n",
       "      <th>1</th>\n",
       "      <td>2</td>\n",
       "      <td>5.87931</td>\n",
       "      <td>3.0</td>\n",
       "      <td>1.4</td>\n",
       "      <td>0.2</td>\n",
       "      <td>Iris-setosa</td>\n",
       "    </tr>\n",
       "    <tr>\n",
       "      <th>2</th>\n",
       "      <td>3</td>\n",
       "      <td>5.87931</td>\n",
       "      <td>3.2</td>\n",
       "      <td>1.3</td>\n",
       "      <td>0.2</td>\n",
       "      <td>Iris-setosa</td>\n",
       "    </tr>\n",
       "    <tr>\n",
       "      <th>3</th>\n",
       "      <td>4</td>\n",
       "      <td>5.87931</td>\n",
       "      <td>3.1</td>\n",
       "      <td>1.5</td>\n",
       "      <td>0.2</td>\n",
       "      <td>Iris-setosa</td>\n",
       "    </tr>\n",
       "    <tr>\n",
       "      <th>4</th>\n",
       "      <td>5</td>\n",
       "      <td>5.00000</td>\n",
       "      <td>3.6</td>\n",
       "      <td>1.4</td>\n",
       "      <td>0.2</td>\n",
       "      <td>Iris-setosa</td>\n",
       "    </tr>\n",
       "    <tr>\n",
       "      <th>5</th>\n",
       "      <td>6</td>\n",
       "      <td>5.87931</td>\n",
       "      <td>3.9</td>\n",
       "      <td>1.7</td>\n",
       "      <td>0.4</td>\n",
       "      <td>Iris-setosa</td>\n",
       "    </tr>\n",
       "    <tr>\n",
       "      <th>6</th>\n",
       "      <td>7</td>\n",
       "      <td>4.60000</td>\n",
       "      <td>3.4</td>\n",
       "      <td>1.4</td>\n",
       "      <td>0.3</td>\n",
       "      <td>Iris-setosa</td>\n",
       "    </tr>\n",
       "    <tr>\n",
       "      <th>7</th>\n",
       "      <td>8</td>\n",
       "      <td>5.00000</td>\n",
       "      <td>3.4</td>\n",
       "      <td>1.5</td>\n",
       "      <td>0.2</td>\n",
       "      <td>Iris-setosa</td>\n",
       "    </tr>\n",
       "    <tr>\n",
       "      <th>8</th>\n",
       "      <td>9</td>\n",
       "      <td>5.87931</td>\n",
       "      <td>2.9</td>\n",
       "      <td>1.4</td>\n",
       "      <td>0.2</td>\n",
       "      <td>Iris-setosa</td>\n",
       "    </tr>\n",
       "    <tr>\n",
       "      <th>9</th>\n",
       "      <td>10</td>\n",
       "      <td>4.90000</td>\n",
       "      <td>3.1</td>\n",
       "      <td>1.5</td>\n",
       "      <td>0.1</td>\n",
       "      <td>Iris-setosa</td>\n",
       "    </tr>\n",
       "  </tbody>\n",
       "</table>\n",
       "</div>"
      ],
      "text/plain": [
       "   id  sepal_length  sepal_width  petal_length  petal_width        class\n",
       "0   1       5.10000          3.5           1.4          0.2  Iris-setosa\n",
       "1   2       5.87931          3.0           1.4          0.2  Iris-setosa\n",
       "2   3       5.87931          3.2           1.3          0.2  Iris-setosa\n",
       "3   4       5.87931          3.1           1.5          0.2  Iris-setosa\n",
       "4   5       5.00000          3.6           1.4          0.2  Iris-setosa\n",
       "5   6       5.87931          3.9           1.7          0.4  Iris-setosa\n",
       "6   7       4.60000          3.4           1.4          0.3  Iris-setosa\n",
       "7   8       5.00000          3.4           1.5          0.2  Iris-setosa\n",
       "8   9       5.87931          2.9           1.4          0.2  Iris-setosa\n",
       "9  10       4.90000          3.1           1.5          0.1  Iris-setosa"
      ]
     },
     "execution_count": 3,
     "metadata": {},
     "output_type": "execute_result"
    }
   ],
   "source": [
    "df_2 = _deepnote_execute_sql('SELECT * FROM `defaultdb`.`iris` LIMIT 10', 'SQL_E260CBEB_4E67_484D_8D5F_FDCC9DEC71A5', audit_sql_comment='', sql_cache_mode='cache_disabled')\n",
    "df_2"
   ]
  },
  {
   "cell_type": "markdown",
   "metadata": {},
   "source": [
    "### Dengan KNN"
   ]
  },
  {
   "cell_type": "raw",
   "metadata": {},
   "source": [
    "UPDATE irisknn AS t1\n",
    "SET\n",
    "    t1.sepal_length = (\n",
    "        SELECT AVG(sub.sepal_length)\n",
    "        FROM (\n",
    "            SELECT t2.sepal_length\n",
    "            FROM irisknn AS t2\n",
    "            WHERE t2.sepal_length IS NOT NULL\n",
    "            ORDER BY SQRT(\n",
    "                POWER(t1.sepal_length - t2.sepal_length, 2) +\n",
    "                POWER(t1.sepal_width - t2.sepal_width, 2) +\n",
    "                POWER(t1.petal_length - t2.petal_length, 2) +\n",
    "                POWER(t1.petal_width - t2.petal_width, 2)\n",
    "            ) ASC\n",
    "            LIMIT 5\n",
    "        ) AS sub\n",
    "    )\n",
    "WHERE\n",
    "    t1.sepal_length IS NULL;"
   ]
  },
  {
   "cell_type": "code",
   "execution_count": 4,
   "metadata": {
    "cell_id": "deebe625199041e880d476c45c858704",
    "deepnote_cell_type": "sql",
    "deepnote_sql_source": "SELECT * FROM `defaultdb`.`irisknn` LIMIT 10",
    "deepnote_to_be_reexecuted": false,
    "deepnote_variable_name": "df_3",
    "execution_millis": 3550,
    "execution_start": 1710975991333,
    "source_hash": "2e2a5138",
    "sql_integration_id": "e260cbeb-4e67-484d-8d5f-fdcc9dec71a5"
   },
   "outputs": [
    {
     "data": {
      "application/vnd.deepnote.sql-output-metadata+json": {
       "size_in_bytes": 1208,
       "status": "success_no_cache"
      }
     },
     "metadata": {},
     "output_type": "display_data"
    },
    {
     "data": {
      "application/vnd.deepnote.dataframe.v3+json": {
       "column_count": 6,
       "columns": [
        {
         "dtype": "int64",
         "name": "id",
         "stats": {
          "histogram": [
           {
            "bin_end": 1.9,
            "bin_start": 1,
            "count": 1
           },
           {
            "bin_end": 2.8,
            "bin_start": 1.9,
            "count": 1
           },
           {
            "bin_end": 3.7,
            "bin_start": 2.8,
            "count": 1
           },
           {
            "bin_end": 4.6,
            "bin_start": 3.7,
            "count": 1
           },
           {
            "bin_end": 5.5,
            "bin_start": 4.6,
            "count": 1
           },
           {
            "bin_end": 6.4,
            "bin_start": 5.5,
            "count": 1
           },
           {
            "bin_end": 7.3,
            "bin_start": 6.4,
            "count": 1
           },
           {
            "bin_end": 8.2,
            "bin_start": 7.3,
            "count": 1
           },
           {
            "bin_end": 9.1,
            "bin_start": 8.2,
            "count": 1
           },
           {
            "bin_end": 10,
            "bin_start": 9.1,
            "count": 1
           }
          ],
          "max": "10",
          "min": "1",
          "nan_count": 0,
          "unique_count": 10
         }
        },
        {
         "dtype": "float64",
         "name": "sepal_length",
         "stats": {
          "histogram": [
           {
            "bin_end": 4.6499999999999995,
            "bin_start": 4.6,
            "count": 1
           },
           {
            "bin_end": 4.699999999999999,
            "bin_start": 4.6499999999999995,
            "count": 0
           },
           {
            "bin_end": 4.75,
            "bin_start": 4.699999999999999,
            "count": 0
           },
           {
            "bin_end": 4.8,
            "bin_start": 4.75,
            "count": 0
           },
           {
            "bin_end": 4.85,
            "bin_start": 4.8,
            "count": 0
           },
           {
            "bin_end": 4.8999999999999995,
            "bin_start": 4.85,
            "count": 0
           },
           {
            "bin_end": 4.949999999999999,
            "bin_start": 4.8999999999999995,
            "count": 4
           },
           {
            "bin_end": 5,
            "bin_start": 4.949999999999999,
            "count": 2
           },
           {
            "bin_end": 5.05,
            "bin_start": 5,
            "count": 2
           },
           {
            "bin_end": 5.1,
            "bin_start": 5.05,
            "count": 1
           }
          ],
          "max": "5.1",
          "min": "4.6",
          "nan_count": 0,
          "unique_count": 8
         }
        },
        {
         "dtype": "float64",
         "name": "sepal_width",
         "stats": {
          "histogram": [
           {
            "bin_end": 3,
            "bin_start": 2.9,
            "count": 1
           },
           {
            "bin_end": 3.1,
            "bin_start": 3,
            "count": 1
           },
           {
            "bin_end": 3.2,
            "bin_start": 3.1,
            "count": 2
           },
           {
            "bin_end": 3.3,
            "bin_start": 3.2,
            "count": 1
           },
           {
            "bin_end": 3.4,
            "bin_start": 3.3,
            "count": 0
           },
           {
            "bin_end": 3.5,
            "bin_start": 3.4,
            "count": 2
           },
           {
            "bin_end": 3.6,
            "bin_start": 3.5,
            "count": 1
           },
           {
            "bin_end": 3.7,
            "bin_start": 3.6,
            "count": 1
           },
           {
            "bin_end": 3.8,
            "bin_start": 3.7,
            "count": 0
           },
           {
            "bin_end": 3.9,
            "bin_start": 3.8,
            "count": 1
           }
          ],
          "max": "3.9",
          "min": "2.9",
          "nan_count": 0,
          "unique_count": 8
         }
        },
        {
         "dtype": "float64",
         "name": "petal_length",
         "stats": {
          "histogram": [
           {
            "bin_end": 1.34,
            "bin_start": 1.3,
            "count": 1
           },
           {
            "bin_end": 1.3800000000000001,
            "bin_start": 1.34,
            "count": 0
           },
           {
            "bin_end": 1.42,
            "bin_start": 1.3800000000000001,
            "count": 5
           },
           {
            "bin_end": 1.46,
            "bin_start": 1.42,
            "count": 0
           },
           {
            "bin_end": 1.5,
            "bin_start": 1.46,
            "count": 0
           },
           {
            "bin_end": 1.54,
            "bin_start": 1.5,
            "count": 3
           },
           {
            "bin_end": 1.58,
            "bin_start": 1.54,
            "count": 0
           },
           {
            "bin_end": 1.62,
            "bin_start": 1.58,
            "count": 0
           },
           {
            "bin_end": 1.66,
            "bin_start": 1.62,
            "count": 0
           },
           {
            "bin_end": 1.7,
            "bin_start": 1.66,
            "count": 1
           }
          ],
          "max": "1.7",
          "min": "1.3",
          "nan_count": 0,
          "unique_count": 4
         }
        },
        {
         "dtype": "float64",
         "name": "petal_width",
         "stats": {
          "histogram": [
           {
            "bin_end": 0.13,
            "bin_start": 0.1,
            "count": 1
           },
           {
            "bin_end": 0.16000000000000003,
            "bin_start": 0.13,
            "count": 0
           },
           {
            "bin_end": 0.19000000000000003,
            "bin_start": 0.16000000000000003,
            "count": 0
           },
           {
            "bin_end": 0.22000000000000003,
            "bin_start": 0.19000000000000003,
            "count": 7
           },
           {
            "bin_end": 0.25,
            "bin_start": 0.22000000000000003,
            "count": 0
           },
           {
            "bin_end": 0.28,
            "bin_start": 0.25,
            "count": 0
           },
           {
            "bin_end": 0.31000000000000005,
            "bin_start": 0.28,
            "count": 1
           },
           {
            "bin_end": 0.3400000000000001,
            "bin_start": 0.31000000000000005,
            "count": 0
           },
           {
            "bin_end": 0.3700000000000001,
            "bin_start": 0.3400000000000001,
            "count": 0
           },
           {
            "bin_end": 0.4,
            "bin_start": 0.3700000000000001,
            "count": 1
           }
          ],
          "max": "0.4",
          "min": "0.1",
          "nan_count": 0,
          "unique_count": 4
         }
        },
        {
         "dtype": "object",
         "name": "class",
         "stats": {
          "categories": [
           {
            "count": 10,
            "name": "Iris-setosa"
           }
          ],
          "nan_count": 0,
          "unique_count": 1
         }
        },
        {
         "dtype": "int64",
         "name": "_deepnote_index_column"
        }
       ],
       "row_count": 10,
       "rows": [
        {
         "_deepnote_index_column": 0,
         "class": "Iris-setosa",
         "id": 1,
         "petal_length": 1.4,
         "petal_width": 0.2,
         "sepal_length": 5.1,
         "sepal_width": 3.5
        },
        {
         "_deepnote_index_column": 1,
         "class": "Iris-setosa",
         "id": 2,
         "petal_length": 1.4,
         "petal_width": 0.2,
         "sepal_length": 4.92,
         "sepal_width": 3
        },
        {
         "_deepnote_index_column": 2,
         "class": "Iris-setosa",
         "id": 3,
         "petal_length": 1.3,
         "petal_width": 0.2,
         "sepal_length": 4.9239999999999995,
         "sepal_width": 3.2
        },
        {
         "_deepnote_index_column": 3,
         "class": "Iris-setosa",
         "id": 4,
         "petal_length": 1.5,
         "petal_width": 0.2,
         "sepal_length": 4.908799999999999,
         "sepal_width": 3.1
        },
        {
         "_deepnote_index_column": 4,
         "class": "Iris-setosa",
         "id": 5,
         "petal_length": 1.4,
         "petal_width": 0.2,
         "sepal_length": 5,
         "sepal_width": 3.6
        },
        {
         "_deepnote_index_column": 5,
         "class": "Iris-setosa",
         "id": 6,
         "petal_length": 1.7,
         "petal_width": 0.4,
         "sepal_length": 4.97056,
         "sepal_width": 3.9
        },
        {
         "_deepnote_index_column": 6,
         "class": "Iris-setosa",
         "id": 7,
         "petal_length": 1.4,
         "petal_width": 0.3,
         "sepal_length": 4.6,
         "sepal_width": 3.4
        },
        {
         "_deepnote_index_column": 7,
         "class": "Iris-setosa",
         "id": 8,
         "petal_length": 1.5,
         "petal_width": 0.2,
         "sepal_length": 5,
         "sepal_width": 3.4
        },
        {
         "_deepnote_index_column": 8,
         "class": "Iris-setosa",
         "id": 9,
         "petal_length": 1.4,
         "petal_width": 0.2,
         "sepal_length": 4.97056,
         "sepal_width": 2.9
        },
        {
         "_deepnote_index_column": 9,
         "class": "Iris-setosa",
         "id": 10,
         "petal_length": 1.5,
         "petal_width": 0.1,
         "sepal_length": 4.9,
         "sepal_width": 3.1
        }
       ]
      },
      "text/html": [
       "<div>\n",
       "<style scoped>\n",
       "    .dataframe tbody tr th:only-of-type {\n",
       "        vertical-align: middle;\n",
       "    }\n",
       "\n",
       "    .dataframe tbody tr th {\n",
       "        vertical-align: top;\n",
       "    }\n",
       "\n",
       "    .dataframe thead th {\n",
       "        text-align: right;\n",
       "    }\n",
       "</style>\n",
       "<table border=\"1\" class=\"dataframe\">\n",
       "  <thead>\n",
       "    <tr style=\"text-align: right;\">\n",
       "      <th></th>\n",
       "      <th>id</th>\n",
       "      <th>sepal_length</th>\n",
       "      <th>sepal_width</th>\n",
       "      <th>petal_length</th>\n",
       "      <th>petal_width</th>\n",
       "      <th>class</th>\n",
       "    </tr>\n",
       "  </thead>\n",
       "  <tbody>\n",
       "    <tr>\n",
       "      <th>0</th>\n",
       "      <td>1</td>\n",
       "      <td>5.10000</td>\n",
       "      <td>3.5</td>\n",
       "      <td>1.4</td>\n",
       "      <td>0.2</td>\n",
       "      <td>Iris-setosa</td>\n",
       "    </tr>\n",
       "    <tr>\n",
       "      <th>1</th>\n",
       "      <td>2</td>\n",
       "      <td>4.92000</td>\n",
       "      <td>3.0</td>\n",
       "      <td>1.4</td>\n",
       "      <td>0.2</td>\n",
       "      <td>Iris-setosa</td>\n",
       "    </tr>\n",
       "    <tr>\n",
       "      <th>2</th>\n",
       "      <td>3</td>\n",
       "      <td>4.92400</td>\n",
       "      <td>3.2</td>\n",
       "      <td>1.3</td>\n",
       "      <td>0.2</td>\n",
       "      <td>Iris-setosa</td>\n",
       "    </tr>\n",
       "    <tr>\n",
       "      <th>3</th>\n",
       "      <td>4</td>\n",
       "      <td>4.90880</td>\n",
       "      <td>3.1</td>\n",
       "      <td>1.5</td>\n",
       "      <td>0.2</td>\n",
       "      <td>Iris-setosa</td>\n",
       "    </tr>\n",
       "    <tr>\n",
       "      <th>4</th>\n",
       "      <td>5</td>\n",
       "      <td>5.00000</td>\n",
       "      <td>3.6</td>\n",
       "      <td>1.4</td>\n",
       "      <td>0.2</td>\n",
       "      <td>Iris-setosa</td>\n",
       "    </tr>\n",
       "    <tr>\n",
       "      <th>5</th>\n",
       "      <td>6</td>\n",
       "      <td>4.97056</td>\n",
       "      <td>3.9</td>\n",
       "      <td>1.7</td>\n",
       "      <td>0.4</td>\n",
       "      <td>Iris-setosa</td>\n",
       "    </tr>\n",
       "    <tr>\n",
       "      <th>6</th>\n",
       "      <td>7</td>\n",
       "      <td>4.60000</td>\n",
       "      <td>3.4</td>\n",
       "      <td>1.4</td>\n",
       "      <td>0.3</td>\n",
       "      <td>Iris-setosa</td>\n",
       "    </tr>\n",
       "    <tr>\n",
       "      <th>7</th>\n",
       "      <td>8</td>\n",
       "      <td>5.00000</td>\n",
       "      <td>3.4</td>\n",
       "      <td>1.5</td>\n",
       "      <td>0.2</td>\n",
       "      <td>Iris-setosa</td>\n",
       "    </tr>\n",
       "    <tr>\n",
       "      <th>8</th>\n",
       "      <td>9</td>\n",
       "      <td>4.97056</td>\n",
       "      <td>2.9</td>\n",
       "      <td>1.4</td>\n",
       "      <td>0.2</td>\n",
       "      <td>Iris-setosa</td>\n",
       "    </tr>\n",
       "    <tr>\n",
       "      <th>9</th>\n",
       "      <td>10</td>\n",
       "      <td>4.90000</td>\n",
       "      <td>3.1</td>\n",
       "      <td>1.5</td>\n",
       "      <td>0.1</td>\n",
       "      <td>Iris-setosa</td>\n",
       "    </tr>\n",
       "  </tbody>\n",
       "</table>\n",
       "</div>"
      ],
      "text/plain": [
       "   id  sepal_length  sepal_width  petal_length  petal_width        class\n",
       "0   1       5.10000          3.5           1.4          0.2  Iris-setosa\n",
       "1   2       4.92000          3.0           1.4          0.2  Iris-setosa\n",
       "2   3       4.92400          3.2           1.3          0.2  Iris-setosa\n",
       "3   4       4.90880          3.1           1.5          0.2  Iris-setosa\n",
       "4   5       5.00000          3.6           1.4          0.2  Iris-setosa\n",
       "5   6       4.97056          3.9           1.7          0.4  Iris-setosa\n",
       "6   7       4.60000          3.4           1.4          0.3  Iris-setosa\n",
       "7   8       5.00000          3.4           1.5          0.2  Iris-setosa\n",
       "8   9       4.97056          2.9           1.4          0.2  Iris-setosa\n",
       "9  10       4.90000          3.1           1.5          0.1  Iris-setosa"
      ]
     },
     "execution_count": 4,
     "metadata": {},
     "output_type": "execute_result"
    }
   ],
   "source": [
    "df_3 = _deepnote_execute_sql('SELECT * FROM `defaultdb`.`irisknn` LIMIT 10', 'SQL_E260CBEB_4E67_484D_8D5F_FDCC9DEC71A5', audit_sql_comment='', sql_cache_mode='cache_disabled')\n",
    "df_3"
   ]
  },
  {
   "cell_type": "markdown",
   "metadata": {},
   "source": [
    "# Outlier"
   ]
  },
  {
   "cell_type": "markdown",
   "metadata": {},
   "source": [
    "## Konsep Local Outlier Factor"
   ]
  },
  {
   "cell_type": "raw",
   "metadata": {},
   "source": [
    "Local Outlier Factor (LOF) adalah metode yang digunakan dalam analisis data untuk mengidentifikasi observasi yang dianggap sebagai outlier berdasarkan konteks lokal atau lingkungan mereka. \n",
    "LOF memberikan skor untuk setiap data berdasarkan seberapa \"aneh\" atau tidak biasa data tersebut dibandingkan dengan tetangga-tetangganya."
   ]
  },
  {
   "cell_type": "raw",
   "metadata": {},
   "source": [
    "Berikut adalah konsep utama dari LOF:\n",
    "\n",
    "- Local Reachability Density (LRD):\n",
    "Local Reachability Density (LRD) adalah ukuran kepadatan lokal dari sebuah data. Ini menunjukkan seberapa dekat sebuah data dengan tetangganya dalam ruang fitur. LRD didefinisikan sebagai kebalikan dari jarak rata-rata antara sebuah data dan tetangganya dalam k-NN. Semakin kecil jarak rata-rata, semakin besar LRD.\n",
    "\n",
    "- Local Outlier Factor (LOF):\n",
    "Local Outlier Factor (LOF) adalah rasio dari LRD sebuah data terhadap LRD dari tetangga-tetangganya. Ini mengukur seberapa jauh sebuah data dari tetangganya dalam hal kepadatan. Data dengan LOF yang tinggi cenderung menjadi outlier karena mereka memiliki kepadatan yang jauh lebih rendah dibandingkan dengan tetangga-tetangganya.\n",
    "\n",
    "Proses utama dalam menghitung LOF melibatkan langkah-langkah berikut:\n",
    "\n",
    "- Hitung jarak antara semua pasang data dalam ruang fitur.\n",
    "- Temukan k tetangga terdekat untuk setiap data.\n",
    "- Hitung LRD untuk setiap data dengan menghitung kebalikan dari jarak rata-rata antara data dan tetangganya.\n",
    "- Hitung LOF untuk setiap data dengan membandingkan LRD dari data dengan LRD dari tetangga-tetangganya."
   ]
  },
  {
   "cell_type": "code",
   "execution_count": null,
   "metadata": {},
   "outputs": [],
   "source": []
  },
  {
   "cell_type": "code",
   "execution_count": 88,
   "metadata": {},
   "outputs": [
    {
     "name": "stdout",
     "output_type": "stream",
     "text": [
      "Predicted table: [ 1  1  1  1  1  1  1  1 -1  1]\n",
      "Negative LOF scores: [0.95045869 0.95045869 1.02204263 1.03124204 1.0219927  1.08205925\n",
      " 0.89245404 1.03588377 6.67809386 1.08895707]\n"
     ]
    }
   ],
   "source": [
    "from sklearn.neighbors import LocalOutlierFactor\n",
    "import numpy as np\n",
    "\n",
    "X = [\n",
    "    (0, 2, 2),\n",
    "    (1, 1, 3),\n",
    "    (2, 1, 1),\n",
    "    (3, 3, 2),\n",
    "    (1, 5, 3),\n",
    "    (1, 4, 4),\n",
    "    (1, 2, 4),\n",
    "    (1, 3, 4),\n",
    "    (12, 12, 12),\n",
    "    (2, 2, 2),\n",
    "]\n",
    "\n",
    "lof = LocalOutlierFactor(n_neighbors=3, contamination=0.1)\n",
    "\n",
    "y_pred = lof.fit_predict(X)\n",
    "\n",
    "print(\"Predicted table:\", y_pred)\n",
    "print(\"Negative LOF scores:\", -lof.negative_outlier_factor_)  # Ubah tanda negatif untuk mendapatkan nilai LOF positif"
   ]
  },
  {
   "cell_type": "markdown",
   "metadata": {},
   "source": [
    "# Integrasi 2 sumber"
   ]
  },
  {
   "cell_type": "code",
   "execution_count": 93,
   "metadata": {},
   "outputs": [
    {
     "name": "stdout",
     "output_type": "stream",
     "text": [
      "Requirement already satisfied: psycopg2 in c:\\programdata\\anaconda3\\lib\\site-packages (2.9.9)\n"
     ]
    },
    {
     "name": "stderr",
     "output_type": "stream",
     "text": [
      "C:\\Users\\asus\\AppData\\Local\\Temp\\ipykernel_29380\\3333198096.py:19: UserWarning: pandas only supports SQLAlchemy connectable (engine/connection) or database string URI or sqlite3 DBAPI2 connection. Other DBAPI2 objects are not tested. Please consider using SQLAlchemy.\n",
      "  postgres_df = pd.read_sql(postgres_query, postgres_conn)\n",
      "C:\\Users\\asus\\AppData\\Local\\Temp\\ipykernel_29380\\3333198096.py:34: UserWarning: pandas only supports SQLAlchemy connectable (engine/connection) or database string URI or sqlite3 DBAPI2 connection. Other DBAPI2 objects are not tested. Please consider using SQLAlchemy.\n",
      "  mysql_df = pd.read_sql(mysql_query, mysql_conn)\n"
     ]
    },
    {
     "name": "stdout",
     "output_type": "stream",
     "text": [
      "      id  sepal_length  sepal_width  petal_length  petal_width           class\n",
      "0      1           5.1          3.5           1.4          0.2     Iris-setosa\n",
      "1      2           4.9          3.0           1.4          0.2     Iris-setosa\n",
      "2      3           4.7          3.2           1.3          0.2     Iris-setosa\n",
      "3      4           4.6          3.1           1.5          0.2     Iris-setosa\n",
      "4      5           5.0          3.6           1.4          0.2     Iris-setosa\n",
      "..   ...           ...          ...           ...          ...             ...\n",
      "295  146           6.7          3.0           5.2          2.3  Iris-virginica\n",
      "296  147           6.3          2.5           5.0          1.9  Iris-virginica\n",
      "297  148           6.5          3.0           5.2          2.0  Iris-virginica\n",
      "298  149           6.2          3.4           5.4          2.3  Iris-virginica\n",
      "299  150           5.9          3.0           5.1          1.8  Iris-virginica\n",
      "\n",
      "[300 rows x 6 columns]\n"
     ]
    }
   ],
   "source": [
    "!pip install psycopg2\n",
    "import pandas as pd\n",
    "import psycopg2\n",
    "import mysql.connector\n",
    "\n",
    "# Koneksi ke PostgreSQL\n",
    "postgres_conn = psycopg2.connect(\n",
    "    host=\"postgresql-nico22101.a.aivencloud.com\",\n",
    "    port=\"15404\",  # Port PostgreSQL\n",
    "    database=\"defaultdb\",\n",
    "    user=\"avnadmin\",\n",
    "    password=\"AVNS_7FSfVpq4Jofis8WGzve\"\n",
    ")\n",
    "\n",
    "# Query untuk mengambil data dari PostgreSQL\n",
    "postgres_query = \"SELECT * FROM iris;\"\n",
    "\n",
    "# Mengambil data dari PostgreSQL ke DataFrame\n",
    "postgres_df = pd.read_sql(postgres_query, postgres_conn)\n",
    "\n",
    "# Koneksi ke MySQL\n",
    "mysql_conn = mysql.connector.connect(\n",
    "    host=\"mysql-b8e8705-nico22101.a.aivencloud.com\",\n",
    "    port=\"15404\",  # Port MySQL\n",
    "    user=\"avnadmin\",\n",
    "    password=\"AVNS_1WxvRGymUGjuW0Z29gd\",\n",
    "    database=\"defaultdb\"\n",
    ")\n",
    "\n",
    "# Query untuk mengambil data dari MySQL\n",
    "mysql_query = \"SELECT * FROM iriscopy;\"\n",
    "\n",
    "# Mengambil data dari MySQL ke DataFrame\n",
    "mysql_df = pd.read_sql(mysql_query, mysql_conn)\n",
    "\n",
    "# Gabungkan kedua DataFrame berdasarkan kolom kunci yang sama\n",
    "merged_df = pd.concat([postgres_df, mysql_df], ignore_index=True)\n",
    "\n",
    "# Tampilkan DataFrame yang telah digabung\n",
    "print(merged_df)\n"
   ]
  },
  {
   "cell_type": "code",
   "execution_count": null,
   "metadata": {},
   "outputs": [],
   "source": []
  }
 ],
 "metadata": {
  "deepnote_execution_queue": [],
  "deepnote_notebook_id": "e2b6fe9c23f04eb49709cf02d3e65aec",
  "kernelspec": {
   "display_name": "Python 3 (ipykernel)",
   "language": "python",
   "name": "python3"
  },
  "language_info": {
   "codemirror_mode": {
    "name": "ipython",
    "version": 3
   },
   "file_extension": ".py",
   "mimetype": "text/x-python",
   "name": "python",
   "nbconvert_exporter": "python",
   "pygments_lexer": "ipython3",
   "version": "3.11.7"
  }
 },
 "nbformat": 4,
 "nbformat_minor": 4
}
